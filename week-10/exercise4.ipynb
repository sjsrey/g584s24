{
 "cells": [
  {
   "cell_type": "markdown",
   "id": "a52fa163-84cb-4bb9-99fa-482735cb28ac",
   "metadata": {},
   "source": [
    "# Exercise 4: Geodemographic Analysis of Los Angeles\n",
    "\n",
    "\n",
    "## Instructions\n",
    "\n",
    "1. Using the DataStore for geosnap at `/srv/data/geonsap` extract census tract data for Los Angeles using the ACS 2021 dataset.\n",
    "2. Define a list called `cluster_variables` containing the following variables:\n",
    "    - \"median_household_income\",\n",
    "    - \"median_home_value\",\n",
    "    - \"p_edu_college_greater\",\n",
    "    - \"p_edu_hs_less\",\n",
    "    - \"p_nonhisp_white_persons\",\n",
    "    - \"p_nonhisp_black_persons\",\n",
    "    - \"p_hispanic_persons\",\n",
    "    - \"p_asian_persons\",\n",
    "3. Create a new GeoDataFrame that subsets the `cluster_variables`.\n",
    "4. Add the variable `n_total_pop` to the new GeoDataFrame.\n",
    "3. Fill any NAN values with 0\n",
    "5. Plot a map of the geometries\n",
    "6. Create a Queen contiguity spatial weights object for this dataframe\n",
    "7. Create a new geodataframe by dropping the Channel Island tracts.\n",
    "8. Recreate the Queen weights for the new geodataframe\n",
    "10. Using small multiples, create choropleth maps using quintiles for each of the variables.\n",
    "11. Create a pairplot using seaborn for the cluster variables.\n",
    "13. Determine the number of neighborhoods that would be required if each neighborhood had an average of 8000 total population. Let this be the integer valued variable `n_hoods`\n",
    "14. Using KMeans, define neighborhoods with `k=n_hoods`.\n",
    "15. Using Agglomerative Clustering, define neighborhoods with the number of clusters equal to `n_hoods`\n",
    "16. Add a contiguity constraint to Agglomerative clustering and generate new neighborhood definitions.\n",
    "17. Using MaxP, define neighborhoods using the cluster_variables with a threshold of 8000 for the `n_total_pop` variable.\n",
    "18. Compare all four cluster solutions by using small multiples to plot four categorical maps of the clusters.\n",
    "19. Compare all four cluster solutions using the Rand Index. Comment on which solutions are most similar. Why might this be?\n",
    "20. Compare all four cluster solutions based on silhouette scores. Comment on the rankings of the four methods in terms of these scores. Provide an explanation for your findings.\n",
    "\n",
    "\n",
    "Export your notebook as a pdf and submit on Canvas.\n",
    "\n",
    "**Due April 11 midnight**\n",
    "\n"
   ]
  },
  {
   "cell_type": "code",
   "execution_count": null,
   "id": "acb00177-fb5e-45c0-a551-bc302383e2da",
   "metadata": {},
   "outputs": [],
   "source": []
  }
 ],
 "metadata": {
  "kernelspec": {
   "display_name": "Python 3 (ipykernel)",
   "language": "python",
   "name": "python3"
  },
  "language_info": {
   "codemirror_mode": {
    "name": "ipython",
    "version": 3
   },
   "file_extension": ".py",
   "mimetype": "text/x-python",
   "name": "python",
   "nbconvert_exporter": "python",
   "pygments_lexer": "ipython3",
   "version": "3.10.10"
  }
 },
 "nbformat": 4,
 "nbformat_minor": 5
}
