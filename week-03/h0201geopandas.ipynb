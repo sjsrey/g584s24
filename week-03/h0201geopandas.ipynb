{
 "cells": [
  {
   "cell_type": "code",
   "execution_count": 1,
   "id": "d85ea56c-9eee-4548-bc7d-0378da637515",
   "metadata": {},
   "outputs": [],
   "source": [
    "import os\n",
    "\n",
    "os.environ['PROJ_LIB'] = '/opt/tljh/user/share/proj'"
   ]
  },
  {
   "cell_type": "code",
   "execution_count": 4,
   "id": "b93581ec-092b-4057-92cc-e0407f6be31a",
   "metadata": {},
   "outputs": [],
   "source": [
    "import requests\n",
    "\n",
    "url=\"https://raw.githubusercontent.com/plotly/datasets/master/geojson-counties-fips.json\"\n",
    "output_file = 'counties-fips.json'"
   ]
  },
  {
   "cell_type": "code",
   "execution_count": 6,
   "id": "43423537-154b-4a94-8955-bf6316e40f57",
   "metadata": {},
   "outputs": [
    {
     "name": "stdout",
     "output_type": "stream",
     "text": [
      "File downloaded as 'counties-fips.json'\n"
     ]
    }
   ],
   "source": [
    "response = requests.get(url)\n",
    "\n",
    "if response.status_code == 200:\n",
    "    with open(output_file, 'wb') as file:\n",
    "        file.write(response.content)\n",
    "    print(f\"File downloaded as '{output_file}'\")\n",
    "else:\n",
    "    print(f\"Failed to download file. Status code: {response.status_code}\")"
   ]
  },
  {
   "cell_type": "code",
   "execution_count": 7,
   "id": "384c940a-f70b-4815-8416-ab4e00325680",
   "metadata": {},
   "outputs": [],
   "source": [
    "import geopandas as gpd"
   ]
  },
  {
   "cell_type": "code",
   "execution_count": 8,
   "id": "75ee9dba-f49d-4608-8384-9fce13c38b47",
   "metadata": {},
   "outputs": [],
   "source": [
    "import pandas as pd"
   ]
  },
  {
   "cell_type": "code",
   "execution_count": 9,
   "id": "0e814e41-938b-4c26-b0b9-add0fe3dc3c0",
   "metadata": {},
   "outputs": [],
   "source": [
    "gdf = gpd.read_file(\"counties-fips.json\")"
   ]
  },
  {
   "cell_type": "code",
   "execution_count": 10,
   "id": "cb0aead7-b8cb-4e96-b652-7256a37ef8ee",
   "metadata": {},
   "outputs": [
    {
     "data": {
      "text/plain": [
       "(3221, 8)"
      ]
     },
     "execution_count": 10,
     "metadata": {},
     "output_type": "execute_result"
    }
   ],
   "source": [
    "gdf.shape"
   ]
  },
  {
   "cell_type": "code",
   "execution_count": 11,
   "id": "7c213352-4aaf-4030-bd1a-d8fcbd79eff8",
   "metadata": {},
   "outputs": [
    {
     "data": {
      "text/plain": [
       "geopandas.geodataframe.GeoDataFrame"
      ]
     },
     "execution_count": 11,
     "metadata": {},
     "output_type": "execute_result"
    }
   ],
   "source": [
    "type(gdf)"
   ]
  },
  {
   "cell_type": "code",
   "execution_count": 12,
   "id": "c74a02ef-2ace-471a-8626-ba87c08bafb8",
   "metadata": {},
   "outputs": [
    {
     "data": {
      "text/html": [
       "<div>\n",
       "<style scoped>\n",
       "    .dataframe tbody tr th:only-of-type {\n",
       "        vertical-align: middle;\n",
       "    }\n",
       "\n",
       "    .dataframe tbody tr th {\n",
       "        vertical-align: top;\n",
       "    }\n",
       "\n",
       "    .dataframe thead th {\n",
       "        text-align: right;\n",
       "    }\n",
       "</style>\n",
       "<table border=\"1\" class=\"dataframe\">\n",
       "  <thead>\n",
       "    <tr style=\"text-align: right;\">\n",
       "      <th></th>\n",
       "      <th>id</th>\n",
       "      <th>GEO_ID</th>\n",
       "      <th>STATE</th>\n",
       "      <th>COUNTY</th>\n",
       "      <th>NAME</th>\n",
       "      <th>LSAD</th>\n",
       "      <th>CENSUSAREA</th>\n",
       "      <th>geometry</th>\n",
       "    </tr>\n",
       "  </thead>\n",
       "  <tbody>\n",
       "    <tr>\n",
       "      <th>0</th>\n",
       "      <td>01001</td>\n",
       "      <td>0500000US01001</td>\n",
       "      <td>01</td>\n",
       "      <td>001</td>\n",
       "      <td>Autauga</td>\n",
       "      <td>County</td>\n",
       "      <td>594.436</td>\n",
       "      <td>POLYGON ((-86.49677 32.34444, -86.71790 32.402...</td>\n",
       "    </tr>\n",
       "    <tr>\n",
       "      <th>1</th>\n",
       "      <td>01009</td>\n",
       "      <td>0500000US01009</td>\n",
       "      <td>01</td>\n",
       "      <td>009</td>\n",
       "      <td>Blount</td>\n",
       "      <td>County</td>\n",
       "      <td>644.776</td>\n",
       "      <td>POLYGON ((-86.57780 33.76532, -86.75914 33.840...</td>\n",
       "    </tr>\n",
       "    <tr>\n",
       "      <th>2</th>\n",
       "      <td>01017</td>\n",
       "      <td>0500000US01017</td>\n",
       "      <td>01</td>\n",
       "      <td>017</td>\n",
       "      <td>Chambers</td>\n",
       "      <td>County</td>\n",
       "      <td>596.531</td>\n",
       "      <td>POLYGON ((-85.18413 32.87053, -85.12342 32.772...</td>\n",
       "    </tr>\n",
       "    <tr>\n",
       "      <th>3</th>\n",
       "      <td>01021</td>\n",
       "      <td>0500000US01021</td>\n",
       "      <td>01</td>\n",
       "      <td>021</td>\n",
       "      <td>Chilton</td>\n",
       "      <td>County</td>\n",
       "      <td>692.854</td>\n",
       "      <td>POLYGON ((-86.51734 33.02057, -86.51596 32.929...</td>\n",
       "    </tr>\n",
       "    <tr>\n",
       "      <th>4</th>\n",
       "      <td>01033</td>\n",
       "      <td>0500000US01033</td>\n",
       "      <td>01</td>\n",
       "      <td>033</td>\n",
       "      <td>Colbert</td>\n",
       "      <td>County</td>\n",
       "      <td>592.619</td>\n",
       "      <td>POLYGON ((-88.13999 34.58170, -88.13925 34.587...</td>\n",
       "    </tr>\n",
       "  </tbody>\n",
       "</table>\n",
       "</div>"
      ],
      "text/plain": [
       "      id          GEO_ID STATE COUNTY      NAME    LSAD  CENSUSAREA  \\\n",
       "0  01001  0500000US01001    01    001   Autauga  County     594.436   \n",
       "1  01009  0500000US01009    01    009    Blount  County     644.776   \n",
       "2  01017  0500000US01017    01    017  Chambers  County     596.531   \n",
       "3  01021  0500000US01021    01    021   Chilton  County     692.854   \n",
       "4  01033  0500000US01033    01    033   Colbert  County     592.619   \n",
       "\n",
       "                                            geometry  \n",
       "0  POLYGON ((-86.49677 32.34444, -86.71790 32.402...  \n",
       "1  POLYGON ((-86.57780 33.76532, -86.75914 33.840...  \n",
       "2  POLYGON ((-85.18413 32.87053, -85.12342 32.772...  \n",
       "3  POLYGON ((-86.51734 33.02057, -86.51596 32.929...  \n",
       "4  POLYGON ((-88.13999 34.58170, -88.13925 34.587...  "
      ]
     },
     "execution_count": 12,
     "metadata": {},
     "output_type": "execute_result"
    }
   ],
   "source": [
    "gdf.head()"
   ]
  },
  {
   "cell_type": "code",
   "execution_count": 13,
   "id": "0c27135f-24ea-4ae2-9e32-ca7b74d017e9",
   "metadata": {},
   "outputs": [
    {
     "data": {
      "text/plain": [
       "id              object\n",
       "GEO_ID          object\n",
       "STATE           object\n",
       "COUNTY          object\n",
       "NAME            object\n",
       "LSAD            object\n",
       "CENSUSAREA     float64\n",
       "geometry      geometry\n",
       "dtype: object"
      ]
     },
     "execution_count": 13,
     "metadata": {},
     "output_type": "execute_result"
    }
   ],
   "source": [
    "gdf.dtypes"
   ]
  },
  {
   "cell_type": "code",
   "execution_count": 14,
   "id": "134b2611-d7a8-4b4a-9b29-9fed8abc7449",
   "metadata": {},
   "outputs": [
    {
     "data": {
      "text/plain": [
       "<Axes: >"
      ]
     },
     "execution_count": 14,
     "metadata": {},
     "output_type": "execute_result"
    },
    {
     "data": {
      "image/png": "[encoded data removed]",
      "text/plain": [
       "<Figure size 640x480 with 1 Axes>"
      ]
     },
     "metadata": {},
     "output_type": "display_data"
    }
   ],
   "source": [
    "gdf.plot()"
   ]
  },
  {
   "cell_type": "code",
   "execution_count": 15,
   "id": "2b8ede0c-3868-479e-82b8-bef9efdb6bab",
   "metadata": {},
   "outputs": [
    {
     "data": {
      "text/plain": [
       "(3221, 8)"
      ]
     },
     "execution_count": 15,
     "metadata": {},
     "output_type": "execute_result"
    }
   ],
   "source": [
    "gdf.shape"
   ]
  },
  {
   "cell_type": "code",
   "execution_count": 16,
   "id": "933b4c3a-6035-4b1b-8ad7-a4947b7802d1",
   "metadata": {},
   "outputs": [
    {
     "data": {
      "text/plain": [
       "Index(['id', 'GEO_ID', 'STATE', 'COUNTY', 'NAME', 'LSAD', 'CENSUSAREA',\n",
       "       'geometry'],\n",
       "      dtype='object')"
      ]
     },
     "execution_count": 16,
     "metadata": {},
     "output_type": "execute_result"
    }
   ],
   "source": [
    "gdf.columns"
   ]
  },
  {
   "cell_type": "code",
   "execution_count": 17,
   "id": "b78187d1-034b-422a-9e2e-d0e68a3d30b3",
   "metadata": {},
   "outputs": [],
   "source": [
    "df = pd.read_excel('PovertyEstimates.xlsx', 'PovertyEstimates', skiprows=4)"
   ]
  },
  {
   "cell_type": "code",
   "execution_count": 18,
   "id": "337aa942-802c-4e04-b5ea-98455e41a3eb",
   "metadata": {},
   "outputs": [
    {
     "data": {
      "text/html": [
       "<div>\n",
       "<style scoped>\n",
       "    .dataframe tbody tr th:only-of-type {\n",
       "        vertical-align: middle;\n",
       "    }\n",
       "\n",
       "    .dataframe tbody tr th {\n",
       "        vertical-align: top;\n",
       "    }\n",
       "\n",
       "    .dataframe thead th {\n",
       "        text-align: right;\n",
       "    }\n",
       "</style>\n",
       "<table border=\"1\" class=\"dataframe\">\n",
       "  <thead>\n",
       "    <tr style=\"text-align: right;\">\n",
       "      <th></th>\n",
       "      <th>FIPS_Code</th>\n",
       "      <th>Stabr</th>\n",
       "      <th>Area_name</th>\n",
       "      <th>Rural-urban_Continuum_Code_2003</th>\n",
       "      <th>Urban_Influence_Code_2003</th>\n",
       "      <th>Rural-urban_Continuum_Code_2013</th>\n",
       "      <th>Urban_Influence_Code_ 2013</th>\n",
       "      <th>POVALL_2021</th>\n",
       "      <th>CI90LBALL_2021</th>\n",
       "      <th>CI90UBALL_2021</th>\n",
       "      <th>...</th>\n",
       "      <th>CI90UB517P_2021</th>\n",
       "      <th>MEDHHINC_2021</th>\n",
       "      <th>CI90LBINC_2021</th>\n",
       "      <th>CI90UBINC_2021</th>\n",
       "      <th>POV04_2021</th>\n",
       "      <th>CI90LB04_2021</th>\n",
       "      <th>CI90UB04_2021</th>\n",
       "      <th>PCTPOV04_2021</th>\n",
       "      <th>CI90LB04P_2021</th>\n",
       "      <th>CI90UB04P_2021</th>\n",
       "    </tr>\n",
       "  </thead>\n",
       "  <tbody>\n",
       "    <tr>\n",
       "      <th>0</th>\n",
       "      <td>0</td>\n",
       "      <td>US</td>\n",
       "      <td>United States</td>\n",
       "      <td>NaN</td>\n",
       "      <td>NaN</td>\n",
       "      <td>NaN</td>\n",
       "      <td>NaN</td>\n",
       "      <td>41393176.0</td>\n",
       "      <td>41149497.0</td>\n",
       "      <td>41636855.0</td>\n",
       "      <td>...</td>\n",
       "      <td>16.3</td>\n",
       "      <td>69717.0</td>\n",
       "      <td>69583.0</td>\n",
       "      <td>69851.0</td>\n",
       "      <td>3349149.0</td>\n",
       "      <td>3299669.0</td>\n",
       "      <td>3398629.0</td>\n",
       "      <td>18.3</td>\n",
       "      <td>18.0</td>\n",
       "      <td>18.6</td>\n",
       "    </tr>\n",
       "    <tr>\n",
       "      <th>1</th>\n",
       "      <td>1000</td>\n",
       "      <td>AL</td>\n",
       "      <td>Alabama</td>\n",
       "      <td>NaN</td>\n",
       "      <td>NaN</td>\n",
       "      <td>NaN</td>\n",
       "      <td>NaN</td>\n",
       "      <td>800848.0</td>\n",
       "      <td>782169.0</td>\n",
       "      <td>819527.0</td>\n",
       "      <td>...</td>\n",
       "      <td>22.5</td>\n",
       "      <td>53990.0</td>\n",
       "      <td>53218.0</td>\n",
       "      <td>54762.0</td>\n",
       "      <td>71220.0</td>\n",
       "      <td>66888.0</td>\n",
       "      <td>75552.0</td>\n",
       "      <td>25.1</td>\n",
       "      <td>23.6</td>\n",
       "      <td>26.6</td>\n",
       "    </tr>\n",
       "    <tr>\n",
       "      <th>2</th>\n",
       "      <td>1001</td>\n",
       "      <td>AL</td>\n",
       "      <td>Autauga County</td>\n",
       "      <td>2.0</td>\n",
       "      <td>2.0</td>\n",
       "      <td>2.0</td>\n",
       "      <td>2.0</td>\n",
       "      <td>6296.0</td>\n",
       "      <td>4772.0</td>\n",
       "      <td>7820.0</td>\n",
       "      <td>...</td>\n",
       "      <td>20.4</td>\n",
       "      <td>66444.0</td>\n",
       "      <td>60061.0</td>\n",
       "      <td>72827.0</td>\n",
       "      <td>NaN</td>\n",
       "      <td>NaN</td>\n",
       "      <td>NaN</td>\n",
       "      <td>NaN</td>\n",
       "      <td>NaN</td>\n",
       "      <td>NaN</td>\n",
       "    </tr>\n",
       "    <tr>\n",
       "      <th>3</th>\n",
       "      <td>1003</td>\n",
       "      <td>AL</td>\n",
       "      <td>Baldwin County</td>\n",
       "      <td>4.0</td>\n",
       "      <td>5.0</td>\n",
       "      <td>3.0</td>\n",
       "      <td>2.0</td>\n",
       "      <td>25526.0</td>\n",
       "      <td>21599.0</td>\n",
       "      <td>29453.0</td>\n",
       "      <td>...</td>\n",
       "      <td>18.5</td>\n",
       "      <td>65658.0</td>\n",
       "      <td>60723.0</td>\n",
       "      <td>70593.0</td>\n",
       "      <td>NaN</td>\n",
       "      <td>NaN</td>\n",
       "      <td>NaN</td>\n",
       "      <td>NaN</td>\n",
       "      <td>NaN</td>\n",
       "      <td>NaN</td>\n",
       "    </tr>\n",
       "    <tr>\n",
       "      <th>4</th>\n",
       "      <td>1005</td>\n",
       "      <td>AL</td>\n",
       "      <td>Barbour County</td>\n",
       "      <td>6.0</td>\n",
       "      <td>6.0</td>\n",
       "      <td>6.0</td>\n",
       "      <td>6.0</td>\n",
       "      <td>5089.0</td>\n",
       "      <td>3773.0</td>\n",
       "      <td>6405.0</td>\n",
       "      <td>...</td>\n",
       "      <td>44.6</td>\n",
       "      <td>38649.0</td>\n",
       "      <td>34308.0</td>\n",
       "      <td>42990.0</td>\n",
       "      <td>NaN</td>\n",
       "      <td>NaN</td>\n",
       "      <td>NaN</td>\n",
       "      <td>NaN</td>\n",
       "      <td>NaN</td>\n",
       "      <td>NaN</td>\n",
       "    </tr>\n",
       "  </tbody>\n",
       "</table>\n",
       "<p>5 rows × 34 columns</p>\n",
       "</div>"
      ],
      "text/plain": [
       "   FIPS_Code Stabr       Area_name  Rural-urban_Continuum_Code_2003  \\\n",
       "0          0    US   United States                              NaN   \n",
       "1       1000    AL         Alabama                              NaN   \n",
       "2       1001    AL  Autauga County                              2.0   \n",
       "3       1003    AL  Baldwin County                              4.0   \n",
       "4       1005    AL  Barbour County                              6.0   \n",
       "\n",
       "   Urban_Influence_Code_2003  Rural-urban_Continuum_Code_2013  \\\n",
       "0                        NaN                              NaN   \n",
       "1                        NaN                              NaN   \n",
       "2                        2.0                              2.0   \n",
       "3                        5.0                              3.0   \n",
       "4                        6.0                              6.0   \n",
       "\n",
       "   Urban_Influence_Code_ 2013  POVALL_2021  CI90LBALL_2021  CI90UBALL_2021  \\\n",
       "0                         NaN   41393176.0      41149497.0      41636855.0   \n",
       "1                         NaN     800848.0        782169.0        819527.0   \n",
       "2                         2.0       6296.0          4772.0          7820.0   \n",
       "3                         2.0      25526.0         21599.0         29453.0   \n",
       "4                         6.0       5089.0          3773.0          6405.0   \n",
       "\n",
       "   ...  CI90UB517P_2021  MEDHHINC_2021  CI90LBINC_2021  CI90UBINC_2021  \\\n",
       "0  ...             16.3        69717.0         69583.0         69851.0   \n",
       "1  ...             22.5        53990.0         53218.0         54762.0   \n",
       "2  ...             20.4        66444.0         60061.0         72827.0   \n",
       "3  ...             18.5        65658.0         60723.0         70593.0   \n",
       "4  ...             44.6        38649.0         34308.0         42990.0   \n",
       "\n",
       "   POV04_2021  CI90LB04_2021  CI90UB04_2021  PCTPOV04_2021  CI90LB04P_2021  \\\n",
       "0   3349149.0      3299669.0      3398629.0           18.3            18.0   \n",
       "1     71220.0        66888.0        75552.0           25.1            23.6   \n",
       "2         NaN            NaN            NaN            NaN             NaN   \n",
       "3         NaN            NaN            NaN            NaN             NaN   \n",
       "4         NaN            NaN            NaN            NaN             NaN   \n",
       "\n",
       "   CI90UB04P_2021  \n",
       "0            18.6  \n",
       "1            26.6  \n",
       "2             NaN  \n",
       "3             NaN  \n",
       "4             NaN  \n",
       "\n",
       "[5 rows x 34 columns]"
      ]
     },
     "execution_count": 18,
     "metadata": {},
     "output_type": "execute_result"
    }
   ],
   "source": [
    "df.head()"
   ]
  },
  {
   "cell_type": "code",
   "execution_count": 19,
   "id": "ac32d074-4dd8-4afe-b082-dd8ac6628bff",
   "metadata": {},
   "outputs": [
    {
     "data": {
      "text/html": [
       "<div>\n",
       "<style scoped>\n",
       "    .dataframe tbody tr th:only-of-type {\n",
       "        vertical-align: middle;\n",
       "    }\n",
       "\n",
       "    .dataframe tbody tr th {\n",
       "        vertical-align: top;\n",
       "    }\n",
       "\n",
       "    .dataframe thead th {\n",
       "        text-align: right;\n",
       "    }\n",
       "</style>\n",
       "<table border=\"1\" class=\"dataframe\">\n",
       "  <thead>\n",
       "    <tr style=\"text-align: right;\">\n",
       "      <th></th>\n",
       "      <th>id</th>\n",
       "      <th>GEO_ID</th>\n",
       "      <th>STATE</th>\n",
       "      <th>COUNTY</th>\n",
       "      <th>NAME</th>\n",
       "      <th>LSAD</th>\n",
       "      <th>CENSUSAREA</th>\n",
       "      <th>geometry</th>\n",
       "    </tr>\n",
       "  </thead>\n",
       "  <tbody>\n",
       "    <tr>\n",
       "      <th>0</th>\n",
       "      <td>01001</td>\n",
       "      <td>0500000US01001</td>\n",
       "      <td>01</td>\n",
       "      <td>001</td>\n",
       "      <td>Autauga</td>\n",
       "      <td>County</td>\n",
       "      <td>594.436</td>\n",
       "      <td>POLYGON ((-86.49677 32.34444, -86.71790 32.402...</td>\n",
       "    </tr>\n",
       "    <tr>\n",
       "      <th>1</th>\n",
       "      <td>01009</td>\n",
       "      <td>0500000US01009</td>\n",
       "      <td>01</td>\n",
       "      <td>009</td>\n",
       "      <td>Blount</td>\n",
       "      <td>County</td>\n",
       "      <td>644.776</td>\n",
       "      <td>POLYGON ((-86.57780 33.76532, -86.75914 33.840...</td>\n",
       "    </tr>\n",
       "    <tr>\n",
       "      <th>2</th>\n",
       "      <td>01017</td>\n",
       "      <td>0500000US01017</td>\n",
       "      <td>01</td>\n",
       "      <td>017</td>\n",
       "      <td>Chambers</td>\n",
       "      <td>County</td>\n",
       "      <td>596.531</td>\n",
       "      <td>POLYGON ((-85.18413 32.87053, -85.12342 32.772...</td>\n",
       "    </tr>\n",
       "    <tr>\n",
       "      <th>3</th>\n",
       "      <td>01021</td>\n",
       "      <td>0500000US01021</td>\n",
       "      <td>01</td>\n",
       "      <td>021</td>\n",
       "      <td>Chilton</td>\n",
       "      <td>County</td>\n",
       "      <td>692.854</td>\n",
       "      <td>POLYGON ((-86.51734 33.02057, -86.51596 32.929...</td>\n",
       "    </tr>\n",
       "    <tr>\n",
       "      <th>4</th>\n",
       "      <td>01033</td>\n",
       "      <td>0500000US01033</td>\n",
       "      <td>01</td>\n",
       "      <td>033</td>\n",
       "      <td>Colbert</td>\n",
       "      <td>County</td>\n",
       "      <td>592.619</td>\n",
       "      <td>POLYGON ((-88.13999 34.58170, -88.13925 34.587...</td>\n",
       "    </tr>\n",
       "  </tbody>\n",
       "</table>\n",
       "</div>"
      ],
      "text/plain": [
       "      id          GEO_ID STATE COUNTY      NAME    LSAD  CENSUSAREA  \\\n",
       "0  01001  0500000US01001    01    001   Autauga  County     594.436   \n",
       "1  01009  0500000US01009    01    009    Blount  County     644.776   \n",
       "2  01017  0500000US01017    01    017  Chambers  County     596.531   \n",
       "3  01021  0500000US01021    01    021   Chilton  County     692.854   \n",
       "4  01033  0500000US01033    01    033   Colbert  County     592.619   \n",
       "\n",
       "                                            geometry  \n",
       "0  POLYGON ((-86.49677 32.34444, -86.71790 32.402...  \n",
       "1  POLYGON ((-86.57780 33.76532, -86.75914 33.840...  \n",
       "2  POLYGON ((-85.18413 32.87053, -85.12342 32.772...  \n",
       "3  POLYGON ((-86.51734 33.02057, -86.51596 32.929...  \n",
       "4  POLYGON ((-88.13999 34.58170, -88.13925 34.587...  "
      ]
     },
     "execution_count": 19,
     "metadata": {},
     "output_type": "execute_result"
    }
   ],
   "source": [
    "gdf.head()"
   ]
  },
  {
   "cell_type": "code",
   "execution_count": 20,
   "id": "987eda74-6c53-4461-97ca-d10f0b827446",
   "metadata": {},
   "outputs": [],
   "source": [
    "df['fips'] = df.FIPS_Code.astype(str).str.zfill(5)"
   ]
  },
  {
   "cell_type": "code",
   "execution_count": 21,
   "id": "57dd93ce-ddf2-483c-8e5d-621aacfd05c7",
   "metadata": {},
   "outputs": [
    {
     "data": {
      "text/plain": [
       "0       00000\n",
       "1       01000\n",
       "2       01001\n",
       "3       01003\n",
       "4       01005\n",
       "        ...  \n",
       "3190    56037\n",
       "3191    56039\n",
       "3192    56041\n",
       "3193    56043\n",
       "3194    56045\n",
       "Name: fips, Length: 3195, dtype: object"
      ]
     },
     "execution_count": 21,
     "metadata": {},
     "output_type": "execute_result"
    }
   ],
   "source": [
    "df.fips"
   ]
  },
  {
   "cell_type": "code",
   "execution_count": 22,
   "id": "5b2300e1-e38f-44de-bc7f-6a98b176b6e7",
   "metadata": {},
   "outputs": [],
   "source": [
    "gdf1 = gdf.merge(df, left_on='id', right_on='fips', how='left')"
   ]
  },
  {
   "cell_type": "code",
   "execution_count": 23,
   "id": "7f90b0af-b24b-4e6f-9fc0-edfc899d6e4f",
   "metadata": {},
   "outputs": [
    {
     "data": {
      "text/plain": [
       "(3221, 43)"
      ]
     },
     "execution_count": 23,
     "metadata": {},
     "output_type": "execute_result"
    }
   ],
   "source": [
    "gdf1.shape"
   ]
  },
  {
   "cell_type": "code",
   "execution_count": 24,
   "id": "b6e75179-8e88-44ac-92e2-49804f72e860",
   "metadata": {},
   "outputs": [
    {
     "data": {
      "text/plain": [
       "(3221, 8)"
      ]
     },
     "execution_count": 24,
     "metadata": {},
     "output_type": "execute_result"
    }
   ],
   "source": [
    "gdf.shape"
   ]
  },
  {
   "cell_type": "code",
   "execution_count": 26,
   "id": "d468c5bb-dc70-471b-b074-c73263700c79",
   "metadata": {},
   "outputs": [
    {
     "data": {
      "text/html": [
       "<div>\n",
       "<style scoped>\n",
       "    .dataframe tbody tr th:only-of-type {\n",
       "        vertical-align: middle;\n",
       "    }\n",
       "\n",
       "    .dataframe tbody tr th {\n",
       "        vertical-align: top;\n",
       "    }\n",
       "\n",
       "    .dataframe thead th {\n",
       "        text-align: right;\n",
       "    }\n",
       "</style>\n",
       "<table border=\"1\" class=\"dataframe\">\n",
       "  <thead>\n",
       "    <tr style=\"text-align: right;\">\n",
       "      <th></th>\n",
       "      <th>id</th>\n",
       "      <th>GEO_ID</th>\n",
       "      <th>STATE</th>\n",
       "      <th>COUNTY</th>\n",
       "      <th>NAME</th>\n",
       "      <th>LSAD</th>\n",
       "      <th>CENSUSAREA</th>\n",
       "      <th>geometry</th>\n",
       "      <th>FIPS_Code</th>\n",
       "      <th>Stabr</th>\n",
       "      <th>...</th>\n",
       "      <th>MEDHHINC_2021</th>\n",
       "      <th>CI90LBINC_2021</th>\n",
       "      <th>CI90UBINC_2021</th>\n",
       "      <th>POV04_2021</th>\n",
       "      <th>CI90LB04_2021</th>\n",
       "      <th>CI90UB04_2021</th>\n",
       "      <th>PCTPOV04_2021</th>\n",
       "      <th>CI90LB04P_2021</th>\n",
       "      <th>CI90UB04P_2021</th>\n",
       "      <th>fips</th>\n",
       "    </tr>\n",
       "  </thead>\n",
       "  <tbody>\n",
       "    <tr>\n",
       "      <th>0</th>\n",
       "      <td>01001</td>\n",
       "      <td>0500000US01001</td>\n",
       "      <td>01</td>\n",
       "      <td>001</td>\n",
       "      <td>Autauga</td>\n",
       "      <td>County</td>\n",
       "      <td>594.436</td>\n",
       "      <td>POLYGON ((-86.49677 32.34444, -86.71790 32.402...</td>\n",
       "      <td>1001.0</td>\n",
       "      <td>AL</td>\n",
       "      <td>...</td>\n",
       "      <td>66444.0</td>\n",
       "      <td>60061.0</td>\n",
       "      <td>72827.0</td>\n",
       "      <td>NaN</td>\n",
       "      <td>NaN</td>\n",
       "      <td>NaN</td>\n",
       "      <td>NaN</td>\n",
       "      <td>NaN</td>\n",
       "      <td>NaN</td>\n",
       "      <td>01001</td>\n",
       "    </tr>\n",
       "    <tr>\n",
       "      <th>1</th>\n",
       "      <td>01009</td>\n",
       "      <td>0500000US01009</td>\n",
       "      <td>01</td>\n",
       "      <td>009</td>\n",
       "      <td>Blount</td>\n",
       "      <td>County</td>\n",
       "      <td>644.776</td>\n",
       "      <td>POLYGON ((-86.57780 33.76532, -86.75914 33.840...</td>\n",
       "      <td>1009.0</td>\n",
       "      <td>AL</td>\n",
       "      <td>...</td>\n",
       "      <td>56894.0</td>\n",
       "      <td>52632.0</td>\n",
       "      <td>61156.0</td>\n",
       "      <td>NaN</td>\n",
       "      <td>NaN</td>\n",
       "      <td>NaN</td>\n",
       "      <td>NaN</td>\n",
       "      <td>NaN</td>\n",
       "      <td>NaN</td>\n",
       "      <td>01009</td>\n",
       "    </tr>\n",
       "    <tr>\n",
       "      <th>2</th>\n",
       "      <td>01017</td>\n",
       "      <td>0500000US01017</td>\n",
       "      <td>01</td>\n",
       "      <td>017</td>\n",
       "      <td>Chambers</td>\n",
       "      <td>County</td>\n",
       "      <td>596.531</td>\n",
       "      <td>POLYGON ((-85.18413 32.87053, -85.12342 32.772...</td>\n",
       "      <td>1017.0</td>\n",
       "      <td>AL</td>\n",
       "      <td>...</td>\n",
       "      <td>45447.0</td>\n",
       "      <td>40729.0</td>\n",
       "      <td>50165.0</td>\n",
       "      <td>NaN</td>\n",
       "      <td>NaN</td>\n",
       "      <td>NaN</td>\n",
       "      <td>NaN</td>\n",
       "      <td>NaN</td>\n",
       "      <td>NaN</td>\n",
       "      <td>01017</td>\n",
       "    </tr>\n",
       "    <tr>\n",
       "      <th>3</th>\n",
       "      <td>01021</td>\n",
       "      <td>0500000US01021</td>\n",
       "      <td>01</td>\n",
       "      <td>021</td>\n",
       "      <td>Chilton</td>\n",
       "      <td>County</td>\n",
       "      <td>692.854</td>\n",
       "      <td>POLYGON ((-86.51734 33.02057, -86.51596 32.929...</td>\n",
       "      <td>1021.0</td>\n",
       "      <td>AL</td>\n",
       "      <td>...</td>\n",
       "      <td>55142.0</td>\n",
       "      <td>49687.0</td>\n",
       "      <td>60597.0</td>\n",
       "      <td>NaN</td>\n",
       "      <td>NaN</td>\n",
       "      <td>NaN</td>\n",
       "      <td>NaN</td>\n",
       "      <td>NaN</td>\n",
       "      <td>NaN</td>\n",
       "      <td>01021</td>\n",
       "    </tr>\n",
       "    <tr>\n",
       "      <th>4</th>\n",
       "      <td>01033</td>\n",
       "      <td>0500000US01033</td>\n",
       "      <td>01</td>\n",
       "      <td>033</td>\n",
       "      <td>Colbert</td>\n",
       "      <td>County</td>\n",
       "      <td>592.619</td>\n",
       "      <td>POLYGON ((-88.13999 34.58170, -88.13925 34.587...</td>\n",
       "      <td>1033.0</td>\n",
       "      <td>AL</td>\n",
       "      <td>...</td>\n",
       "      <td>53341.0</td>\n",
       "      <td>48729.0</td>\n",
       "      <td>57953.0</td>\n",
       "      <td>NaN</td>\n",
       "      <td>NaN</td>\n",
       "      <td>NaN</td>\n",
       "      <td>NaN</td>\n",
       "      <td>NaN</td>\n",
       "      <td>NaN</td>\n",
       "      <td>01033</td>\n",
       "    </tr>\n",
       "  </tbody>\n",
       "</table>\n",
       "<p>5 rows × 43 columns</p>\n",
       "</div>"
      ],
      "text/plain": [
       "      id          GEO_ID STATE COUNTY      NAME    LSAD  CENSUSAREA  \\\n",
       "0  01001  0500000US01001    01    001   Autauga  County     594.436   \n",
       "1  01009  0500000US01009    01    009    Blount  County     644.776   \n",
       "2  01017  0500000US01017    01    017  Chambers  County     596.531   \n",
       "3  01021  0500000US01021    01    021   Chilton  County     692.854   \n",
       "4  01033  0500000US01033    01    033   Colbert  County     592.619   \n",
       "\n",
       "                                            geometry  FIPS_Code Stabr  ...  \\\n",
       "0  POLYGON ((-86.49677 32.34444, -86.71790 32.402...     1001.0    AL  ...   \n",
       "1  POLYGON ((-86.57780 33.76532, -86.75914 33.840...     1009.0    AL  ...   \n",
       "2  POLYGON ((-85.18413 32.87053, -85.12342 32.772...     1017.0    AL  ...   \n",
       "3  POLYGON ((-86.51734 33.02057, -86.51596 32.929...     1021.0    AL  ...   \n",
       "4  POLYGON ((-88.13999 34.58170, -88.13925 34.587...     1033.0    AL  ...   \n",
       "\n",
       "  MEDHHINC_2021  CI90LBINC_2021  CI90UBINC_2021  POV04_2021  CI90LB04_2021  \\\n",
       "0       66444.0         60061.0         72827.0         NaN            NaN   \n",
       "1       56894.0         52632.0         61156.0         NaN            NaN   \n",
       "2       45447.0         40729.0         50165.0         NaN            NaN   \n",
       "3       55142.0         49687.0         60597.0         NaN            NaN   \n",
       "4       53341.0         48729.0         57953.0         NaN            NaN   \n",
       "\n",
       "   CI90UB04_2021  PCTPOV04_2021  CI90LB04P_2021  CI90UB04P_2021   fips  \n",
       "0            NaN            NaN             NaN             NaN  01001  \n",
       "1            NaN            NaN             NaN             NaN  01009  \n",
       "2            NaN            NaN             NaN             NaN  01017  \n",
       "3            NaN            NaN             NaN             NaN  01021  \n",
       "4            NaN            NaN             NaN             NaN  01033  \n",
       "\n",
       "[5 rows x 43 columns]"
      ]
     },
     "execution_count": 26,
     "metadata": {},
     "output_type": "execute_result"
    }
   ],
   "source": [
    "gdf1.head()"
   ]
  },
  {
   "cell_type": "code",
   "execution_count": 27,
   "id": "36abf2fe-1303-4359-bde4-249971bb37a9",
   "metadata": {},
   "outputs": [
    {
     "data": {
      "text/plain": [
       "Index(['id', 'GEO_ID', 'STATE', 'COUNTY', 'NAME', 'LSAD', 'CENSUSAREA',\n",
       "       'geometry', 'FIPS_Code', 'Stabr', 'Area_name',\n",
       "       'Rural-urban_Continuum_Code_2003', 'Urban_Influence_Code_2003',\n",
       "       'Rural-urban_Continuum_Code_2013', 'Urban_Influence_Code_ 2013',\n",
       "       'POVALL_2021', 'CI90LBALL_2021', 'CI90UBALL_2021', 'PCTPOVALL_2021',\n",
       "       'CI90LBALLP_2021', 'CI90UBALLP_2021', 'POV017_2021', 'CI90LB017_2021',\n",
       "       'CI90UB017_2021', 'PCTPOV017_2021', 'CI90LB017P_2021',\n",
       "       'CI90UB017P_2021', 'POV517_2021', 'CI90LB517_2021', 'CI90UB517_2021',\n",
       "       'PCTPOV517_2021', 'CI90LB517P_2021', 'CI90UB517P_2021', 'MEDHHINC_2021',\n",
       "       'CI90LBINC_2021', 'CI90UBINC_2021', 'POV04_2021', 'CI90LB04_2021',\n",
       "       'CI90UB04_2021', 'PCTPOV04_2021', 'CI90LB04P_2021', 'CI90UB04P_2021',\n",
       "       'fips'],\n",
       "      dtype='object')"
      ]
     },
     "execution_count": 27,
     "metadata": {},
     "output_type": "execute_result"
    }
   ],
   "source": [
    "gdf1.columns"
   ]
  },
  {
   "cell_type": "code",
   "execution_count": 28,
   "id": "1772eb32-a2d4-4365-8c5f-3fa2381f8673",
   "metadata": {},
   "outputs": [
    {
     "data": {
      "text/plain": [
       "Index(['id', 'GEO_ID', 'STATE', 'COUNTY', 'NAME', 'LSAD', 'CENSUSAREA',\n",
       "       'geometry'],\n",
       "      dtype='object')"
      ]
     },
     "execution_count": 28,
     "metadata": {},
     "output_type": "execute_result"
    }
   ],
   "source": [
    "gdf.columns"
   ]
  },
  {
   "cell_type": "code",
   "execution_count": 29,
   "id": "26905d25-4ca6-4dc8-b7f6-cf7ca42c3a8b",
   "metadata": {},
   "outputs": [],
   "source": [
    "ca = gdf1[gdf1.STATE=='06']"
   ]
  },
  {
   "cell_type": "code",
   "execution_count": 30,
   "id": "1f01f57e-85d4-4a77-b505-d0c53a4d15b4",
   "metadata": {},
   "outputs": [
    {
     "data": {
      "text/plain": [
       "(58, 43)"
      ]
     },
     "execution_count": 30,
     "metadata": {},
     "output_type": "execute_result"
    }
   ],
   "source": [
    "ca.shape"
   ]
  },
  {
   "cell_type": "code",
   "execution_count": 31,
   "id": "7f7ab3bf-72f9-4102-b788-e94c4404d66f",
   "metadata": {},
   "outputs": [
    {
     "data": {
      "text/plain": [
       "<Axes: >"
      ]
     },
     "execution_count": 31,
     "metadata": {},
     "output_type": "execute_result"
    },
    {
     "data": {
      "image/png": "[encoded data removed]",
      "text/plain": [
       "<Figure size 640x480 with 1 Axes>"
      ]
     },
     "metadata": {},
     "output_type": "display_data"
    }
   ],
   "source": [
    "ca.plot(column='PCTPOVALL_2021')"
   ]
  },
  {
   "cell_type": "code",
   "execution_count": null,
   "id": "3b4c2020-6d18-4e59-85b2-858e9487a27f",
   "metadata": {},
   "outputs": [],
   "source": []
  }
 ],
 "metadata": {
  "kernelspec": {
   "display_name": "Python 3 (ipykernel)",
   "language": "python",
   "name": "python3"
  },
  "language_info": {
   "codemirror_mode": {
    "name": "ipython",
    "version": 3
   },
   "file_extension": ".py",
   "mimetype": "text/x-python",
   "name": "python",
   "nbconvert_exporter": "python",
   "pygments_lexer": "ipython3",
   "version": "3.10.10"
  }
 },
 "nbformat": 4,
 "nbformat_minor": 5
}
