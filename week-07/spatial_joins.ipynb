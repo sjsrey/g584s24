{
 "cells": [
  {
   "cell_type": "raw",
   "id": "7b3cd421-f761-4d5a-964e-85832fde9dc1",
   "metadata": {},
   "source": [
    "---\n",
    "title: Spatial Joins, Overlay, and Interpolation\n",
    "format: html\n",
    "---"
   ]
  },
  {
   "cell_type": "markdown",
   "id": "3d3a3fb8-85e8-4267-89ed-e9b07d5b5ebf",
   "metadata": {},
   "source": [
    "# Spatial Joins and Overlays"
   ]
  },
  {
   "cell_type": "code",
   "execution_count": 2,
   "id": "b8231d43-3cf3-48e7-8c24-9124fecbc128",
   "metadata": {},
   "outputs": [],
   "source": [
    "import numpy as np\n",
    "import geopandas as gpd\n",
    "from shapely.geometry import Point, Polygon"
   ]
  },
  {
   "cell_type": "code",
   "execution_count": 4,
   "id": "0c825fa9-0d32-48f5-b352-74a1e908c491",
   "metadata": {},
   "outputs": [
    {
     "data": {
      "text/plain": [
       "array([[7.15409136, 3.95168515],\n",
       "       [1.77121415, 1.25989631],\n",
       "       [1.26536581, 9.51477855],\n",
       "       [7.716052  , 1.42392424],\n",
       "       [3.50191546, 1.70899307]])"
      ]
     },
     "execution_count": 4,
     "metadata": {},
     "output_type": "execute_result"
    }
   ],
   "source": [
    "np.random.rand(5,2)*10"
   ]
  },
  {
   "cell_type": "code",
   "execution_count": 5,
   "id": "6562ecb5-cb9c-4c9c-8175-f70dea43748c",
   "metadata": {},
   "outputs": [
    {
     "data": {
      "image/png": "[encoded data removed]",
      "text/plain": [
       "<Figure size 640x480 with 1 Axes>"
      ]
     },
     "metadata": {},
     "output_type": "display_data"
    }
   ],
   "source": [
    "np.random.seed(12345)\n",
    "points = [Point(pnt) for pnt in np.random.rand(5,2)*10]\n",
    "points = gpd.GeoDataFrame(geometry=points)\n",
    "points.plot();"
   ]
  },
  {
   "cell_type": "code",
   "execution_count": 6,
   "id": "e83fabdc-6cc2-43a4-89e1-49146fa7b42f",
   "metadata": {},
   "outputs": [],
   "source": [
    "pl0 = Polygon([[0,0], [4,0], [4,4], [3, 1]])"
   ]
  },
  {
   "cell_type": "code",
   "execution_count": 7,
   "id": "605fabf9-8eb1-4a7e-94a0-a13bc3a4dba5",
   "metadata": {},
   "outputs": [
    {
     "data": {
      "image/svg+xml": [
       "<svg xmlns=\"http://www.w3.org/2000/svg\" xmlns:xlink=\"http://www.w3.org/1999/xlink\" width=\"100.0\" height=\"100.0\" viewBox=\"-0.16 -0.16 4.32 4.32\" preserveAspectRatio=\"xMinYMin meet\"><g transform=\"matrix(1,0,0,-1,0,4.0)\"><path fill-rule=\"evenodd\" fill=\"#66cc99\" stroke=\"#555555\" stroke-width=\"0.0864\" opacity=\"0.6\" d=\"M 0.0,0.0 L 4.0,0.0 L 4.0,4.0 L 3.0,1.0 L 0.0,0.0 z\" /></g></svg>"
      ],
      "text/plain": [
       "<POLYGON ((0 0, 4 0, 4 4, 3 1, 0 0))>"
      ]
     },
     "execution_count": 7,
     "metadata": {},
     "output_type": "execute_result"
    }
   ],
   "source": [
    "pl0"
   ]
  },
  {
   "cell_type": "code",
   "execution_count": 8,
   "id": "8049226e-ebab-4194-833f-79a9cc0a70f2",
   "metadata": {},
   "outputs": [],
   "source": [
    "pl1 = Polygon([(6,1), (7,2), (5,4), (6,1)])\n",
    "pl2= Polygon([ (9,5), (9, 7), (4,6), (8,4)])"
   ]
  },
  {
   "cell_type": "code",
   "execution_count": 9,
   "id": "f8c51317-1be4-4c16-af70-98220df8bbc4",
   "metadata": {},
   "outputs": [],
   "source": [
    "pl_df = gpd.GeoDataFrame(geometry =[ pl0, pl1 , pl2])"
   ]
  },
  {
   "cell_type": "code",
   "execution_count": 10,
   "id": "133d027a-eb2e-4f76-a2cd-8586eeea1855",
   "metadata": {},
   "outputs": [
    {
     "data": {
      "text/plain": [
       "<Axes: >"
      ]
     },
     "execution_count": 10,
     "metadata": {},
     "output_type": "execute_result"
    },
    {
     "data": {
      "image/png": "[encoded data removed]",
      "text/plain": [
       "<Figure size 640x480 with 1 Axes>"
      ]
     },
     "metadata": {},
     "output_type": "display_data"
    }
   ],
   "source": [
    "b = pl_df.plot()\n",
    "points.plot(ax=b, color='r')"
   ]
  },
  {
   "cell_type": "code",
   "execution_count": 11,
   "id": "cb99bb36-01bf-494d-b812-db91b75c861a",
   "metadata": {},
   "outputs": [
    {
     "data": {
      "text/html": [
       "<div>\n",
       "<style scoped>\n",
       "    .dataframe tbody tr th:only-of-type {\n",
       "        vertical-align: middle;\n",
       "    }\n",
       "\n",
       "    .dataframe tbody tr th {\n",
       "        vertical-align: top;\n",
       "    }\n",
       "\n",
       "    .dataframe thead th {\n",
       "        text-align: right;\n",
       "    }\n",
       "</style>\n",
       "<table border=\"1\" class=\"dataframe\">\n",
       "  <thead>\n",
       "    <tr style=\"text-align: right;\">\n",
       "      <th></th>\n",
       "      <th>geometry</th>\n",
       "      <th>index_right</th>\n",
       "    </tr>\n",
       "  </thead>\n",
       "  <tbody>\n",
       "    <tr>\n",
       "      <th>2</th>\n",
       "      <td>POINT (5.67725 5.95545)</td>\n",
       "      <td>2</td>\n",
       "    </tr>\n",
       "    <tr>\n",
       "      <th>4</th>\n",
       "      <td>POINT (7.48907 6.53570)</td>\n",
       "      <td>2</td>\n",
       "    </tr>\n",
       "  </tbody>\n",
       "</table>\n",
       "</div>"
      ],
      "text/plain": [
       "                  geometry  index_right\n",
       "2  POINT (5.67725 5.95545)            2\n",
       "4  POINT (7.48907 6.53570)            2"
      ]
     },
     "execution_count": 11,
     "metadata": {},
     "output_type": "execute_result"
    }
   ],
   "source": [
    "gpd.sjoin(points, pl_df)"
   ]
  },
  {
   "cell_type": "code",
   "execution_count": 9,
   "id": "ac78de44-c9ec-4310-bfda-e8a4bcbe4e86",
   "metadata": {},
   "outputs": [
    {
     "data": {
      "text/html": [
       "<div>\n",
       "<style scoped>\n",
       "    .dataframe tbody tr th:only-of-type {\n",
       "        vertical-align: middle;\n",
       "    }\n",
       "\n",
       "    .dataframe tbody tr th {\n",
       "        vertical-align: top;\n",
       "    }\n",
       "\n",
       "    .dataframe thead th {\n",
       "        text-align: right;\n",
       "    }\n",
       "</style>\n",
       "<table border=\"1\" class=\"dataframe\">\n",
       "  <thead>\n",
       "    <tr style=\"text-align: right;\">\n",
       "      <th></th>\n",
       "      <th>geometry</th>\n",
       "      <th>index_right</th>\n",
       "    </tr>\n",
       "  </thead>\n",
       "  <tbody>\n",
       "    <tr>\n",
       "      <th>2</th>\n",
       "      <td>POLYGON ((9.00000 5.00000, 9.00000 7.00000, 4....</td>\n",
       "      <td>2</td>\n",
       "    </tr>\n",
       "    <tr>\n",
       "      <th>2</th>\n",
       "      <td>POLYGON ((9.00000 5.00000, 9.00000 7.00000, 4....</td>\n",
       "      <td>4</td>\n",
       "    </tr>\n",
       "  </tbody>\n",
       "</table>\n",
       "</div>"
      ],
      "text/plain": [
       "                                            geometry  index_right\n",
       "2  POLYGON ((9.00000 5.00000, 9.00000 7.00000, 4....            2\n",
       "2  POLYGON ((9.00000 5.00000, 9.00000 7.00000, 4....            4"
      ]
     },
     "execution_count": 9,
     "metadata": {},
     "output_type": "execute_result"
    }
   ],
   "source": [
    "gpd.sjoin(pl_df, points)"
   ]
  },
  {
   "cell_type": "code",
   "execution_count": 12,
   "id": "ec7aa660-a190-4fd8-8bc3-e6127d16c85b",
   "metadata": {},
   "outputs": [
    {
     "data": {
      "text/html": [
       "<div>\n",
       "<style scoped>\n",
       "    .dataframe tbody tr th:only-of-type {\n",
       "        vertical-align: middle;\n",
       "    }\n",
       "\n",
       "    .dataframe tbody tr th {\n",
       "        vertical-align: top;\n",
       "    }\n",
       "\n",
       "    .dataframe thead th {\n",
       "        text-align: right;\n",
       "    }\n",
       "</style>\n",
       "<table border=\"1\" class=\"dataframe\">\n",
       "  <thead>\n",
       "    <tr style=\"text-align: right;\">\n",
       "      <th></th>\n",
       "      <th>geometry</th>\n",
       "      <th>index_right</th>\n",
       "    </tr>\n",
       "  </thead>\n",
       "  <tbody>\n",
       "    <tr>\n",
       "      <th>0</th>\n",
       "      <td>POINT (9.29616 3.16376)</td>\n",
       "      <td>2</td>\n",
       "    </tr>\n",
       "    <tr>\n",
       "      <th>2</th>\n",
       "      <td>POINT (5.67725 5.95545)</td>\n",
       "      <td>2</td>\n",
       "    </tr>\n",
       "    <tr>\n",
       "      <th>3</th>\n",
       "      <td>POINT (9.64515 6.53177)</td>\n",
       "      <td>2</td>\n",
       "    </tr>\n",
       "    <tr>\n",
       "      <th>4</th>\n",
       "      <td>POINT (7.48907 6.53570)</td>\n",
       "      <td>2</td>\n",
       "    </tr>\n",
       "    <tr>\n",
       "      <th>1</th>\n",
       "      <td>POINT (1.83919 2.04560)</td>\n",
       "      <td>0</td>\n",
       "    </tr>\n",
       "  </tbody>\n",
       "</table>\n",
       "</div>"
      ],
      "text/plain": [
       "                  geometry  index_right\n",
       "0  POINT (9.29616 3.16376)            2\n",
       "2  POINT (5.67725 5.95545)            2\n",
       "3  POINT (9.64515 6.53177)            2\n",
       "4  POINT (7.48907 6.53570)            2\n",
       "1  POINT (1.83919 2.04560)            0"
      ]
     },
     "execution_count": 12,
     "metadata": {},
     "output_type": "execute_result"
    }
   ],
   "source": [
    "gpd.sjoin_nearest(points, pl_df)"
   ]
  },
  {
   "cell_type": "code",
   "execution_count": 13,
   "id": "ed543c6b-f6c2-45ac-97b6-2d2edfa3c723",
   "metadata": {},
   "outputs": [
    {
     "data": {
      "text/html": [
       "<div>\n",
       "<style scoped>\n",
       "    .dataframe tbody tr th:only-of-type {\n",
       "        vertical-align: middle;\n",
       "    }\n",
       "\n",
       "    .dataframe tbody tr th {\n",
       "        vertical-align: top;\n",
       "    }\n",
       "\n",
       "    .dataframe thead th {\n",
       "        text-align: right;\n",
       "    }\n",
       "</style>\n",
       "<table border=\"1\" class=\"dataframe\">\n",
       "  <thead>\n",
       "    <tr style=\"text-align: right;\">\n",
       "      <th></th>\n",
       "      <th>geometry</th>\n",
       "      <th>index_right</th>\n",
       "    </tr>\n",
       "  </thead>\n",
       "  <tbody>\n",
       "    <tr>\n",
       "      <th>0</th>\n",
       "      <td>POLYGON ((0.00000 0.00000, 4.00000 0.00000, 4....</td>\n",
       "      <td>1</td>\n",
       "    </tr>\n",
       "    <tr>\n",
       "      <th>1</th>\n",
       "      <td>POLYGON ((6.00000 1.00000, 7.00000 2.00000, 5....</td>\n",
       "      <td>2</td>\n",
       "    </tr>\n",
       "    <tr>\n",
       "      <th>2</th>\n",
       "      <td>POLYGON ((9.00000 5.00000, 9.00000 7.00000, 4....</td>\n",
       "      <td>2</td>\n",
       "    </tr>\n",
       "    <tr>\n",
       "      <th>2</th>\n",
       "      <td>POLYGON ((9.00000 5.00000, 9.00000 7.00000, 4....</td>\n",
       "      <td>4</td>\n",
       "    </tr>\n",
       "  </tbody>\n",
       "</table>\n",
       "</div>"
      ],
      "text/plain": [
       "                                            geometry  index_right\n",
       "0  POLYGON ((0.00000 0.00000, 4.00000 0.00000, 4....            1\n",
       "1  POLYGON ((6.00000 1.00000, 7.00000 2.00000, 5....            2\n",
       "2  POLYGON ((9.00000 5.00000, 9.00000 7.00000, 4....            2\n",
       "2  POLYGON ((9.00000 5.00000, 9.00000 7.00000, 4....            4"
      ]
     },
     "execution_count": 13,
     "metadata": {},
     "output_type": "execute_result"
    }
   ],
   "source": [
    "gpd.sjoin_nearest(pl_df, points)"
   ]
  },
  {
   "cell_type": "markdown",
   "id": "1005bd28-a426-4d71-8cd5-c19cc63e3fe9",
   "metadata": {},
   "source": [
    "## How"
   ]
  },
  {
   "cell_type": "code",
   "execution_count": 14,
   "id": "c61266e8-6a0e-4e0b-a038-c76cd46d1fb2",
   "metadata": {},
   "outputs": [
    {
     "data": {
      "text/html": [
       "<div>\n",
       "<style scoped>\n",
       "    .dataframe tbody tr th:only-of-type {\n",
       "        vertical-align: middle;\n",
       "    }\n",
       "\n",
       "    .dataframe tbody tr th {\n",
       "        vertical-align: top;\n",
       "    }\n",
       "\n",
       "    .dataframe thead th {\n",
       "        text-align: right;\n",
       "    }\n",
       "</style>\n",
       "<table border=\"1\" class=\"dataframe\">\n",
       "  <thead>\n",
       "    <tr style=\"text-align: right;\">\n",
       "      <th></th>\n",
       "      <th>geometry</th>\n",
       "      <th>index_right</th>\n",
       "    </tr>\n",
       "  </thead>\n",
       "  <tbody>\n",
       "    <tr>\n",
       "      <th>2</th>\n",
       "      <td>POLYGON ((9.00000 5.00000, 9.00000 7.00000, 4....</td>\n",
       "      <td>2</td>\n",
       "    </tr>\n",
       "    <tr>\n",
       "      <th>2</th>\n",
       "      <td>POLYGON ((9.00000 5.00000, 9.00000 7.00000, 4....</td>\n",
       "      <td>4</td>\n",
       "    </tr>\n",
       "  </tbody>\n",
       "</table>\n",
       "</div>"
      ],
      "text/plain": [
       "                                            geometry  index_right\n",
       "2  POLYGON ((9.00000 5.00000, 9.00000 7.00000, 4....            2\n",
       "2  POLYGON ((9.00000 5.00000, 9.00000 7.00000, 4....            4"
      ]
     },
     "execution_count": 14,
     "metadata": {},
     "output_type": "execute_result"
    }
   ],
   "source": [
    "gpd.sjoin(pl_df, points)"
   ]
  },
  {
   "cell_type": "code",
   "execution_count": 15,
   "id": "79822614-0ffe-4030-8d35-e03e1ab16dd4",
   "metadata": {},
   "outputs": [
    {
     "data": {
      "text/html": [
       "<div>\n",
       "<style scoped>\n",
       "    .dataframe tbody tr th:only-of-type {\n",
       "        vertical-align: middle;\n",
       "    }\n",
       "\n",
       "    .dataframe tbody tr th {\n",
       "        vertical-align: top;\n",
       "    }\n",
       "\n",
       "    .dataframe thead th {\n",
       "        text-align: right;\n",
       "    }\n",
       "</style>\n",
       "<table border=\"1\" class=\"dataframe\">\n",
       "  <thead>\n",
       "    <tr style=\"text-align: right;\">\n",
       "      <th></th>\n",
       "      <th>geometry</th>\n",
       "      <th>index_right</th>\n",
       "    </tr>\n",
       "  </thead>\n",
       "  <tbody>\n",
       "    <tr>\n",
       "      <th>0</th>\n",
       "      <td>POLYGON ((0.00000 0.00000, 4.00000 0.00000, 4....</td>\n",
       "      <td>NaN</td>\n",
       "    </tr>\n",
       "    <tr>\n",
       "      <th>1</th>\n",
       "      <td>POLYGON ((6.00000 1.00000, 7.00000 2.00000, 5....</td>\n",
       "      <td>NaN</td>\n",
       "    </tr>\n",
       "    <tr>\n",
       "      <th>2</th>\n",
       "      <td>POLYGON ((9.00000 5.00000, 9.00000 7.00000, 4....</td>\n",
       "      <td>2.0</td>\n",
       "    </tr>\n",
       "    <tr>\n",
       "      <th>2</th>\n",
       "      <td>POLYGON ((9.00000 5.00000, 9.00000 7.00000, 4....</td>\n",
       "      <td>4.0</td>\n",
       "    </tr>\n",
       "  </tbody>\n",
       "</table>\n",
       "</div>"
      ],
      "text/plain": [
       "                                            geometry  index_right\n",
       "0  POLYGON ((0.00000 0.00000, 4.00000 0.00000, 4....          NaN\n",
       "1  POLYGON ((6.00000 1.00000, 7.00000 2.00000, 5....          NaN\n",
       "2  POLYGON ((9.00000 5.00000, 9.00000 7.00000, 4....          2.0\n",
       "2  POLYGON ((9.00000 5.00000, 9.00000 7.00000, 4....          4.0"
      ]
     },
     "execution_count": 15,
     "metadata": {},
     "output_type": "execute_result"
    }
   ],
   "source": [
    "gpd.sjoin(pl_df, points, how='left') "
   ]
  },
  {
   "cell_type": "code",
   "execution_count": 16,
   "id": "db9a34de-00da-44bb-8410-931f2bab7a55",
   "metadata": {},
   "outputs": [
    {
     "data": {
      "text/html": [
       "<div>\n",
       "<style scoped>\n",
       "    .dataframe tbody tr th:only-of-type {\n",
       "        vertical-align: middle;\n",
       "    }\n",
       "\n",
       "    .dataframe tbody tr th {\n",
       "        vertical-align: top;\n",
       "    }\n",
       "\n",
       "    .dataframe thead th {\n",
       "        text-align: right;\n",
       "    }\n",
       "</style>\n",
       "<table border=\"1\" class=\"dataframe\">\n",
       "  <thead>\n",
       "    <tr style=\"text-align: right;\">\n",
       "      <th></th>\n",
       "      <th>index_left</th>\n",
       "      <th>geometry</th>\n",
       "    </tr>\n",
       "  </thead>\n",
       "  <tbody>\n",
       "    <tr>\n",
       "      <th>0</th>\n",
       "      <td>NaN</td>\n",
       "      <td>POINT (9.29616 3.16376)</td>\n",
       "    </tr>\n",
       "    <tr>\n",
       "      <th>1</th>\n",
       "      <td>NaN</td>\n",
       "      <td>POINT (1.83919 2.04560)</td>\n",
       "    </tr>\n",
       "    <tr>\n",
       "      <th>2</th>\n",
       "      <td>2.0</td>\n",
       "      <td>POINT (5.67725 5.95545)</td>\n",
       "    </tr>\n",
       "    <tr>\n",
       "      <th>3</th>\n",
       "      <td>NaN</td>\n",
       "      <td>POINT (9.64515 6.53177)</td>\n",
       "    </tr>\n",
       "    <tr>\n",
       "      <th>4</th>\n",
       "      <td>2.0</td>\n",
       "      <td>POINT (7.48907 6.53570)</td>\n",
       "    </tr>\n",
       "  </tbody>\n",
       "</table>\n",
       "</div>"
      ],
      "text/plain": [
       "   index_left                 geometry\n",
       "0         NaN  POINT (9.29616 3.16376)\n",
       "1         NaN  POINT (1.83919 2.04560)\n",
       "2         2.0  POINT (5.67725 5.95545)\n",
       "3         NaN  POINT (9.64515 6.53177)\n",
       "4         2.0  POINT (7.48907 6.53570)"
      ]
     },
     "execution_count": 16,
     "metadata": {},
     "output_type": "execute_result"
    }
   ],
   "source": [
    "gpd.sjoin(pl_df, points, how='right') "
   ]
  },
  {
   "cell_type": "code",
   "execution_count": 15,
   "id": "81144a84-942d-42ef-8b59-b01de54c88c6",
   "metadata": {},
   "outputs": [
    {
     "data": {
      "text/html": [
       "<div>\n",
       "<style scoped>\n",
       "    .dataframe tbody tr th:only-of-type {\n",
       "        vertical-align: middle;\n",
       "    }\n",
       "\n",
       "    .dataframe tbody tr th {\n",
       "        vertical-align: top;\n",
       "    }\n",
       "\n",
       "    .dataframe thead th {\n",
       "        text-align: right;\n",
       "    }\n",
       "</style>\n",
       "<table border=\"1\" class=\"dataframe\">\n",
       "  <thead>\n",
       "    <tr style=\"text-align: right;\">\n",
       "      <th></th>\n",
       "      <th>geometry</th>\n",
       "      <th>index_right</th>\n",
       "    </tr>\n",
       "  </thead>\n",
       "  <tbody>\n",
       "    <tr>\n",
       "      <th>2</th>\n",
       "      <td>POLYGON ((9.00000 5.00000, 9.00000 7.00000, 4....</td>\n",
       "      <td>2</td>\n",
       "    </tr>\n",
       "    <tr>\n",
       "      <th>2</th>\n",
       "      <td>POLYGON ((9.00000 5.00000, 9.00000 7.00000, 4....</td>\n",
       "      <td>4</td>\n",
       "    </tr>\n",
       "  </tbody>\n",
       "</table>\n",
       "</div>"
      ],
      "text/plain": [
       "                                            geometry  index_right\n",
       "2  POLYGON ((9.00000 5.00000, 9.00000 7.00000, 4....            2\n",
       "2  POLYGON ((9.00000 5.00000, 9.00000 7.00000, 4....            4"
      ]
     },
     "execution_count": 15,
     "metadata": {},
     "output_type": "execute_result"
    }
   ],
   "source": [
    "gpd.sjoin(pl_df, points, how='inner')  # default"
   ]
  },
  {
   "cell_type": "markdown",
   "id": "0dc1ed44-c14c-4082-8017-14b4461e326a",
   "metadata": {},
   "source": [
    "## Nearest\n"
   ]
  },
  {
   "cell_type": "code",
   "execution_count": 17,
   "id": "0323a72a-94f0-4d28-8f76-1e08a0b8d971",
   "metadata": {},
   "outputs": [
    {
     "data": {
      "text/plain": [
       "<Axes: >"
      ]
     },
     "execution_count": 17,
     "metadata": {},
     "output_type": "execute_result"
    },
    {
     "data": {
      "image/png": "[encoded data removed]",
      "text/plain": [
       "<Figure size 640x480 with 1 Axes>"
      ]
     },
     "metadata": {},
     "output_type": "display_data"
    }
   ],
   "source": [
    "b = pl_df.plot()\n",
    "points.plot(ax=b, color='r')"
   ]
  },
  {
   "cell_type": "code",
   "execution_count": 18,
   "id": "27d424ed-62f7-46d1-93cc-e03e0b3cea18",
   "metadata": {},
   "outputs": [
    {
     "data": {
      "text/html": [
       "<div>\n",
       "<style scoped>\n",
       "    .dataframe tbody tr th:only-of-type {\n",
       "        vertical-align: middle;\n",
       "    }\n",
       "\n",
       "    .dataframe tbody tr th {\n",
       "        vertical-align: top;\n",
       "    }\n",
       "\n",
       "    .dataframe thead th {\n",
       "        text-align: right;\n",
       "    }\n",
       "</style>\n",
       "<table border=\"1\" class=\"dataframe\">\n",
       "  <thead>\n",
       "    <tr style=\"text-align: right;\">\n",
       "      <th></th>\n",
       "      <th>geometry</th>\n",
       "      <th>index_right</th>\n",
       "    </tr>\n",
       "  </thead>\n",
       "  <tbody>\n",
       "    <tr>\n",
       "      <th>0</th>\n",
       "      <td>POLYGON ((0.00000 0.00000, 4.00000 0.00000, 4....</td>\n",
       "      <td>1</td>\n",
       "    </tr>\n",
       "    <tr>\n",
       "      <th>1</th>\n",
       "      <td>POLYGON ((6.00000 1.00000, 7.00000 2.00000, 5....</td>\n",
       "      <td>2</td>\n",
       "    </tr>\n",
       "    <tr>\n",
       "      <th>2</th>\n",
       "      <td>POLYGON ((9.00000 5.00000, 9.00000 7.00000, 4....</td>\n",
       "      <td>2</td>\n",
       "    </tr>\n",
       "    <tr>\n",
       "      <th>2</th>\n",
       "      <td>POLYGON ((9.00000 5.00000, 9.00000 7.00000, 4....</td>\n",
       "      <td>4</td>\n",
       "    </tr>\n",
       "  </tbody>\n",
       "</table>\n",
       "</div>"
      ],
      "text/plain": [
       "                                            geometry  index_right\n",
       "0  POLYGON ((0.00000 0.00000, 4.00000 0.00000, 4....            1\n",
       "1  POLYGON ((6.00000 1.00000, 7.00000 2.00000, 5....            2\n",
       "2  POLYGON ((9.00000 5.00000, 9.00000 7.00000, 4....            2\n",
       "2  POLYGON ((9.00000 5.00000, 9.00000 7.00000, 4....            4"
      ]
     },
     "execution_count": 18,
     "metadata": {},
     "output_type": "execute_result"
    }
   ],
   "source": [
    "gpd.sjoin_nearest(pl_df, points)"
   ]
  },
  {
   "cell_type": "code",
   "execution_count": 21,
   "id": "d359a20e-a84d-4b32-8b4b-daa21b055317",
   "metadata": {},
   "outputs": [
    {
     "data": {
      "text/html": [
       "<div>\n",
       "<style scoped>\n",
       "    .dataframe tbody tr th:only-of-type {\n",
       "        vertical-align: middle;\n",
       "    }\n",
       "\n",
       "    .dataframe tbody tr th {\n",
       "        vertical-align: top;\n",
       "    }\n",
       "\n",
       "    .dataframe thead th {\n",
       "        text-align: right;\n",
       "    }\n",
       "</style>\n",
       "<table border=\"1\" class=\"dataframe\">\n",
       "  <thead>\n",
       "    <tr style=\"text-align: right;\">\n",
       "      <th></th>\n",
       "      <th>geometry</th>\n",
       "      <th>index_right</th>\n",
       "      <th>distance</th>\n",
       "    </tr>\n",
       "  </thead>\n",
       "  <tbody>\n",
       "    <tr>\n",
       "      <th>0</th>\n",
       "      <td>POLYGON ((0.00000 0.00000, 4.00000 0.00000, 4....</td>\n",
       "      <td>1</td>\n",
       "      <td>1.359027</td>\n",
       "    </tr>\n",
       "    <tr>\n",
       "      <th>1</th>\n",
       "      <td>POLYGON ((6.00000 1.00000, 7.00000 2.00000, 5....</td>\n",
       "      <td>2</td>\n",
       "      <td>2.069406</td>\n",
       "    </tr>\n",
       "    <tr>\n",
       "      <th>2</th>\n",
       "      <td>POLYGON ((9.00000 5.00000, 9.00000 7.00000, 4....</td>\n",
       "      <td>2</td>\n",
       "      <td>0.000000</td>\n",
       "    </tr>\n",
       "    <tr>\n",
       "      <th>2</th>\n",
       "      <td>POLYGON ((9.00000 5.00000, 9.00000 7.00000, 4....</td>\n",
       "      <td>4</td>\n",
       "      <td>0.000000</td>\n",
       "    </tr>\n",
       "  </tbody>\n",
       "</table>\n",
       "</div>"
      ],
      "text/plain": [
       "                                            geometry  index_right  distance\n",
       "0  POLYGON ((0.00000 0.00000, 4.00000 0.00000, 4....            1  1.359027\n",
       "1  POLYGON ((6.00000 1.00000, 7.00000 2.00000, 5....            2  2.069406\n",
       "2  POLYGON ((9.00000 5.00000, 9.00000 7.00000, 4....            2  0.000000\n",
       "2  POLYGON ((9.00000 5.00000, 9.00000 7.00000, 4....            4  0.000000"
      ]
     },
     "execution_count": 21,
     "metadata": {},
     "output_type": "execute_result"
    }
   ],
   "source": [
    "gpd.sjoin_nearest(pl_df, points, distance_col='distance') # distance is 0 if point is in polygon and multiple records if poly contains more than 1 point"
   ]
  },
  {
   "cell_type": "code",
   "execution_count": 22,
   "id": "009101ed-bb0e-4c8b-97c2-ae4e17f6c26d",
   "metadata": {},
   "outputs": [
    {
     "data": {
      "text/html": [
       "<div>\n",
       "<style scoped>\n",
       "    .dataframe tbody tr th:only-of-type {\n",
       "        vertical-align: middle;\n",
       "    }\n",
       "\n",
       "    .dataframe tbody tr th {\n",
       "        vertical-align: top;\n",
       "    }\n",
       "\n",
       "    .dataframe thead th {\n",
       "        text-align: right;\n",
       "    }\n",
       "</style>\n",
       "<table border=\"1\" class=\"dataframe\">\n",
       "  <thead>\n",
       "    <tr style=\"text-align: right;\">\n",
       "      <th></th>\n",
       "      <th>geometry</th>\n",
       "      <th>index_right</th>\n",
       "      <th>distance</th>\n",
       "    </tr>\n",
       "  </thead>\n",
       "  <tbody>\n",
       "    <tr>\n",
       "      <th>0</th>\n",
       "      <td>POINT (9.29616 3.16376)</td>\n",
       "      <td>2</td>\n",
       "      <td>1.507838</td>\n",
       "    </tr>\n",
       "    <tr>\n",
       "      <th>2</th>\n",
       "      <td>POINT (5.67725 5.95545)</td>\n",
       "      <td>2</td>\n",
       "      <td>0.000000</td>\n",
       "    </tr>\n",
       "    <tr>\n",
       "      <th>3</th>\n",
       "      <td>POINT (9.64515 6.53177)</td>\n",
       "      <td>2</td>\n",
       "      <td>0.645145</td>\n",
       "    </tr>\n",
       "    <tr>\n",
       "      <th>4</th>\n",
       "      <td>POINT (7.48907 6.53570)</td>\n",
       "      <td>2</td>\n",
       "      <td>0.000000</td>\n",
       "    </tr>\n",
       "    <tr>\n",
       "      <th>1</th>\n",
       "      <td>POINT (1.83919 2.04560)</td>\n",
       "      <td>0</td>\n",
       "      <td>1.359027</td>\n",
       "    </tr>\n",
       "  </tbody>\n",
       "</table>\n",
       "</div>"
      ],
      "text/plain": [
       "                  geometry  index_right  distance\n",
       "0  POINT (9.29616 3.16376)            2  1.507838\n",
       "2  POINT (5.67725 5.95545)            2  0.000000\n",
       "3  POINT (9.64515 6.53177)            2  0.645145\n",
       "4  POINT (7.48907 6.53570)            2  0.000000\n",
       "1  POINT (1.83919 2.04560)            0  1.359027"
      ]
     },
     "execution_count": 22,
     "metadata": {},
     "output_type": "execute_result"
    }
   ],
   "source": [
    "gpd.sjoin_nearest(points, pl_df, distance_col='distance')"
   ]
  },
  {
   "cell_type": "markdown",
   "id": "49482dcc-5b68-41b4-a550-be89bbfc8ce8",
   "metadata": {},
   "source": [
    "## Overlay"
   ]
  },
  {
   "cell_type": "code",
   "execution_count": 57,
   "id": "e53af9ae-d4bd-44b6-9da8-1516e3b4a44f",
   "metadata": {},
   "outputs": [],
   "source": [
    "polys = [ [(0,0), (5,0), (5,4), (0,4)],\n",
    "          [(5,0), (11,0), (11,3), (5,3)],\n",
    "         [(0,5), (5,5), (5,8), (0,8)],\n",
    "         [ (5,3), (11,3), (11,8), (5, 8)]] "
   ]
  },
  {
   "cell_type": "code",
   "execution_count": 58,
   "id": "0ee0cbb8-2a56-4e2d-afda-187ea5d4d66d",
   "metadata": {},
   "outputs": [],
   "source": [
    "pl_df = gpd.GeoDataFrame(geometry =[Polygon(poly) for poly in polys])"
   ]
  },
  {
   "cell_type": "code",
   "execution_count": 59,
   "id": "ad556caf-ff57-44da-8388-a848e520876f",
   "metadata": {},
   "outputs": [
    {
     "data": {
      "text/plain": [
       "<Axes: >"
      ]
     },
     "execution_count": 59,
     "metadata": {},
     "output_type": "execute_result"
    },
    {
     "data": {
      "image/png": "[encoded data removed]",
      "text/plain": [
       "<Figure size 640x480 with 1 Axes>"
      ]
     },
     "metadata": {},
     "output_type": "display_data"
    }
   ],
   "source": [
    "pl_df.plot(edgecolor='k')"
   ]
  },
  {
   "cell_type": "code",
   "execution_count": 60,
   "id": "00cfcc8f-b7d6-42f6-9fb5-9364d14c43eb",
   "metadata": {},
   "outputs": [],
   "source": [
    "buffer = points.buffer(0.5)"
   ]
  },
  {
   "cell_type": "code",
   "execution_count": 61,
   "id": "da57c90c-f917-4cab-8b09-8c8d12792546",
   "metadata": {},
   "outputs": [
    {
     "data": {
      "text/plain": [
       "<Axes: >"
      ]
     },
     "execution_count": 61,
     "metadata": {},
     "output_type": "execute_result"
    },
    {
     "data": {
      "image/png": "[encoded data removed]",
      "text/plain": [
       "<Figure size 640x480 with 1 Axes>"
      ]
     },
     "metadata": {},
     "output_type": "display_data"
    }
   ],
   "source": [
    "base = pl_df.plot(edgecolor='k')\n",
    "buffer.plot(ax=base, color='g')"
   ]
  },
  {
   "cell_type": "code",
   "execution_count": 62,
   "id": "5c1a3f1d-0a47-4415-8366-816d5c714504",
   "metadata": {},
   "outputs": [],
   "source": [
    "pl_df['pci'] = [45.5, 78.7, 30.5, 102.0]\n",
    "pl_df['population'] = [4000, 2500, 3000, 1000]"
   ]
  },
  {
   "cell_type": "code",
   "execution_count": 63,
   "id": "c04d907f-ea8a-4983-87f7-80bba76749bd",
   "metadata": {},
   "outputs": [],
   "source": [
    "buffer = gpd.GeoDataFrame(geometry=buffer)\n",
    "buffer['access'] = 'access'"
   ]
  },
  {
   "cell_type": "code",
   "execution_count": 64,
   "id": "61cadcbd-bdf0-4387-a894-c855fd2126b2",
   "metadata": {},
   "outputs": [
    {
     "data": {
      "text/html": [
       "<div>\n",
       "<style scoped>\n",
       "    .dataframe tbody tr th:only-of-type {\n",
       "        vertical-align: middle;\n",
       "    }\n",
       "\n",
       "    .dataframe tbody tr th {\n",
       "        vertical-align: top;\n",
       "    }\n",
       "\n",
       "    .dataframe thead th {\n",
       "        text-align: right;\n",
       "    }\n",
       "</style>\n",
       "<table border=\"1\" class=\"dataframe\">\n",
       "  <thead>\n",
       "    <tr style=\"text-align: right;\">\n",
       "      <th></th>\n",
       "      <th>pci</th>\n",
       "      <th>population</th>\n",
       "      <th>access</th>\n",
       "      <th>geometry</th>\n",
       "    </tr>\n",
       "  </thead>\n",
       "  <tbody>\n",
       "    <tr>\n",
       "      <th>0</th>\n",
       "      <td>45.5</td>\n",
       "      <td>4000</td>\n",
       "      <td>access</td>\n",
       "      <td>POLYGON ((2.33678 1.99659, 2.32958 1.94806, 2....</td>\n",
       "    </tr>\n",
       "    <tr>\n",
       "      <th>1</th>\n",
       "      <td>78.7</td>\n",
       "      <td>2500</td>\n",
       "      <td>access</td>\n",
       "      <td>POLYGON ((9.76797 3.00000, 9.75810 2.97241, 9....</td>\n",
       "    </tr>\n",
       "    <tr>\n",
       "      <th>2</th>\n",
       "      <td>102.0</td>\n",
       "      <td>1000</td>\n",
       "      <td>access</td>\n",
       "      <td>POLYGON ((8.82435 3.00000, 8.81769 3.01861, 8....</td>\n",
       "    </tr>\n",
       "    <tr>\n",
       "      <th>3</th>\n",
       "      <td>102.0</td>\n",
       "      <td>1000</td>\n",
       "      <td>access</td>\n",
       "      <td>POLYGON ((6.17484 5.90644, 6.16764 5.85790, 6....</td>\n",
       "    </tr>\n",
       "    <tr>\n",
       "      <th>4</th>\n",
       "      <td>102.0</td>\n",
       "      <td>1000</td>\n",
       "      <td>access</td>\n",
       "      <td>POLYGON ((10.14274 6.48276, 10.13554 6.43423, ...</td>\n",
       "    </tr>\n",
       "    <tr>\n",
       "      <th>5</th>\n",
       "      <td>102.0</td>\n",
       "      <td>1000</td>\n",
       "      <td>access</td>\n",
       "      <td>POLYGON ((7.98666 6.48669, 7.97946 6.43815, 7....</td>\n",
       "    </tr>\n",
       "    <tr>\n",
       "      <th>6</th>\n",
       "      <td>45.5</td>\n",
       "      <td>4000</td>\n",
       "      <td>NaN</td>\n",
       "      <td>POLYGON ((0.00000 4.00000, 5.00000 4.00000, 5....</td>\n",
       "    </tr>\n",
       "    <tr>\n",
       "      <th>7</th>\n",
       "      <td>78.7</td>\n",
       "      <td>2500</td>\n",
       "      <td>NaN</td>\n",
       "      <td>POLYGON ((11.00000 3.00000, 11.00000 0.00000, ...</td>\n",
       "    </tr>\n",
       "    <tr>\n",
       "      <th>8</th>\n",
       "      <td>30.5</td>\n",
       "      <td>3000</td>\n",
       "      <td>NaN</td>\n",
       "      <td>POLYGON ((0.00000 5.00000, 5.00000 5.00000, 5....</td>\n",
       "    </tr>\n",
       "    <tr>\n",
       "      <th>9</th>\n",
       "      <td>102.0</td>\n",
       "      <td>1000</td>\n",
       "      <td>NaN</td>\n",
       "      <td>POLYGON ((11.00000 3.00000, 9.76797 3.00000, 9...</td>\n",
       "    </tr>\n",
       "  </tbody>\n",
       "</table>\n",
       "</div>"
      ],
      "text/plain": [
       "     pci  population  access  \\\n",
       "0   45.5        4000  access   \n",
       "1   78.7        2500  access   \n",
       "2  102.0        1000  access   \n",
       "3  102.0        1000  access   \n",
       "4  102.0        1000  access   \n",
       "5  102.0        1000  access   \n",
       "6   45.5        4000     NaN   \n",
       "7   78.7        2500     NaN   \n",
       "8   30.5        3000     NaN   \n",
       "9  102.0        1000     NaN   \n",
       "\n",
       "                                            geometry  \n",
       "0  POLYGON ((2.33678 1.99659, 2.32958 1.94806, 2....  \n",
       "1  POLYGON ((9.76797 3.00000, 9.75810 2.97241, 9....  \n",
       "2  POLYGON ((8.82435 3.00000, 8.81769 3.01861, 8....  \n",
       "3  POLYGON ((6.17484 5.90644, 6.16764 5.85790, 6....  \n",
       "4  POLYGON ((10.14274 6.48276, 10.13554 6.43423, ...  \n",
       "5  POLYGON ((7.98666 6.48669, 7.97946 6.43815, 7....  \n",
       "6  POLYGON ((0.00000 4.00000, 5.00000 4.00000, 5....  \n",
       "7  POLYGON ((11.00000 3.00000, 11.00000 0.00000, ...  \n",
       "8  POLYGON ((0.00000 5.00000, 5.00000 5.00000, 5....  \n",
       "9  POLYGON ((11.00000 3.00000, 9.76797 3.00000, 9...  "
      ]
     },
     "execution_count": 64,
     "metadata": {},
     "output_type": "execute_result"
    }
   ],
   "source": [
    "pl_df.overlay(buffer, how='union')"
   ]
  },
  {
   "cell_type": "code",
   "execution_count": 65,
   "id": "b0d4bfce-d7e3-4e97-982c-24cafa806833",
   "metadata": {},
   "outputs": [],
   "source": [
    "intermediate = pl_df.overlay(buffer, how='union')"
   ]
  },
  {
   "cell_type": "code",
   "execution_count": 66,
   "id": "92f097df-1ce3-4294-aefc-f184decfdc16",
   "metadata": {},
   "outputs": [
    {
     "data": {
      "text/html": [
       "<div>\n",
       "<style scoped>\n",
       "    .dataframe tbody tr th:only-of-type {\n",
       "        vertical-align: middle;\n",
       "    }\n",
       "\n",
       "    .dataframe tbody tr th {\n",
       "        vertical-align: top;\n",
       "    }\n",
       "\n",
       "    .dataframe thead th {\n",
       "        text-align: right;\n",
       "    }\n",
       "</style>\n",
       "<table border=\"1\" class=\"dataframe\">\n",
       "  <thead>\n",
       "    <tr style=\"text-align: right;\">\n",
       "      <th></th>\n",
       "      <th>pci</th>\n",
       "      <th>population</th>\n",
       "      <th>access</th>\n",
       "      <th>geometry</th>\n",
       "    </tr>\n",
       "  </thead>\n",
       "  <tbody>\n",
       "    <tr>\n",
       "      <th>0</th>\n",
       "      <td>45.5</td>\n",
       "      <td>4000</td>\n",
       "      <td>access</td>\n",
       "      <td>POLYGON ((2.33678 1.99659, 2.32958 1.94806, 2....</td>\n",
       "    </tr>\n",
       "    <tr>\n",
       "      <th>1</th>\n",
       "      <td>78.7</td>\n",
       "      <td>2500</td>\n",
       "      <td>access</td>\n",
       "      <td>POLYGON ((9.76797 3.00000, 9.75810 2.97241, 9....</td>\n",
       "    </tr>\n",
       "    <tr>\n",
       "      <th>2</th>\n",
       "      <td>102.0</td>\n",
       "      <td>1000</td>\n",
       "      <td>access</td>\n",
       "      <td>POLYGON ((8.82435 3.00000, 8.81769 3.01861, 8....</td>\n",
       "    </tr>\n",
       "    <tr>\n",
       "      <th>3</th>\n",
       "      <td>102.0</td>\n",
       "      <td>1000</td>\n",
       "      <td>access</td>\n",
       "      <td>POLYGON ((6.17484 5.90644, 6.16764 5.85790, 6....</td>\n",
       "    </tr>\n",
       "    <tr>\n",
       "      <th>4</th>\n",
       "      <td>102.0</td>\n",
       "      <td>1000</td>\n",
       "      <td>access</td>\n",
       "      <td>POLYGON ((10.14274 6.48276, 10.13554 6.43423, ...</td>\n",
       "    </tr>\n",
       "    <tr>\n",
       "      <th>5</th>\n",
       "      <td>102.0</td>\n",
       "      <td>1000</td>\n",
       "      <td>access</td>\n",
       "      <td>POLYGON ((7.98666 6.48669, 7.97946 6.43815, 7....</td>\n",
       "    </tr>\n",
       "    <tr>\n",
       "      <th>6</th>\n",
       "      <td>45.5</td>\n",
       "      <td>4000</td>\n",
       "      <td>NaN</td>\n",
       "      <td>POLYGON ((0.00000 4.00000, 5.00000 4.00000, 5....</td>\n",
       "    </tr>\n",
       "    <tr>\n",
       "      <th>7</th>\n",
       "      <td>78.7</td>\n",
       "      <td>2500</td>\n",
       "      <td>NaN</td>\n",
       "      <td>POLYGON ((11.00000 3.00000, 11.00000 0.00000, ...</td>\n",
       "    </tr>\n",
       "    <tr>\n",
       "      <th>8</th>\n",
       "      <td>30.5</td>\n",
       "      <td>3000</td>\n",
       "      <td>NaN</td>\n",
       "      <td>POLYGON ((0.00000 5.00000, 5.00000 5.00000, 5....</td>\n",
       "    </tr>\n",
       "    <tr>\n",
       "      <th>9</th>\n",
       "      <td>102.0</td>\n",
       "      <td>1000</td>\n",
       "      <td>NaN</td>\n",
       "      <td>POLYGON ((11.00000 3.00000, 9.76797 3.00000, 9...</td>\n",
       "    </tr>\n",
       "  </tbody>\n",
       "</table>\n",
       "</div>"
      ],
      "text/plain": [
       "     pci  population  access  \\\n",
       "0   45.5        4000  access   \n",
       "1   78.7        2500  access   \n",
       "2  102.0        1000  access   \n",
       "3  102.0        1000  access   \n",
       "4  102.0        1000  access   \n",
       "5  102.0        1000  access   \n",
       "6   45.5        4000     NaN   \n",
       "7   78.7        2500     NaN   \n",
       "8   30.5        3000     NaN   \n",
       "9  102.0        1000     NaN   \n",
       "\n",
       "                                            geometry  \n",
       "0  POLYGON ((2.33678 1.99659, 2.32958 1.94806, 2....  \n",
       "1  POLYGON ((9.76797 3.00000, 9.75810 2.97241, 9....  \n",
       "2  POLYGON ((8.82435 3.00000, 8.81769 3.01861, 8....  \n",
       "3  POLYGON ((6.17484 5.90644, 6.16764 5.85790, 6....  \n",
       "4  POLYGON ((10.14274 6.48276, 10.13554 6.43423, ...  \n",
       "5  POLYGON ((7.98666 6.48669, 7.97946 6.43815, 7....  \n",
       "6  POLYGON ((0.00000 4.00000, 5.00000 4.00000, 5....  \n",
       "7  POLYGON ((11.00000 3.00000, 11.00000 0.00000, ...  \n",
       "8  POLYGON ((0.00000 5.00000, 5.00000 5.00000, 5....  \n",
       "9  POLYGON ((11.00000 3.00000, 9.76797 3.00000, 9...  "
      ]
     },
     "execution_count": 66,
     "metadata": {},
     "output_type": "execute_result"
    }
   ],
   "source": [
    "intermediate"
   ]
  },
  {
   "cell_type": "code",
   "execution_count": 67,
   "id": "dd83ef5f-fccb-4a43-9d3f-b8bc97655deb",
   "metadata": {},
   "outputs": [
    {
     "data": {
      "text/plain": [
       "<Axes: >"
      ]
     },
     "execution_count": 67,
     "metadata": {},
     "output_type": "execute_result"
    },
    {
     "data": {
      "image/png": "[encoded data removed]",
      "text/plain": [
       "<Figure size 640x480 with 1 Axes>"
      ]
     },
     "metadata": {},
     "output_type": "display_data"
    }
   ],
   "source": [
    "intermediate.plot(edgecolor='k')"
   ]
  },
  {
   "cell_type": "code",
   "execution_count": 68,
   "id": "54120fab-6266-42d1-b9be-0401c06504a6",
   "metadata": {},
   "outputs": [],
   "source": [
    "intermediate[\"access\"] = intermediate.access.fillna(\"no access\")"
   ]
  },
  {
   "cell_type": "code",
   "execution_count": 69,
   "id": "3ec75807-44e1-4105-b4bf-8089afa9e351",
   "metadata": {},
   "outputs": [
    {
     "data": {
      "text/plain": [
       "<Axes: >"
      ]
     },
     "execution_count": 69,
     "metadata": {},
     "output_type": "execute_result"
    },
    {
     "data": {
      "image/png": "[encoded data removed]",
      "text/plain": [
       "<Figure size 640x480 with 1 Axes>"
      ]
     },
     "metadata": {},
     "output_type": "display_data"
    }
   ],
   "source": [
    "intermediate.plot('access', edgecolor='k', categorical=True, legend=True)"
   ]
  },
  {
   "cell_type": "code",
   "execution_count": 70,
   "id": "b9c1150b-9ee2-4388-ba5c-297eb804facb",
   "metadata": {},
   "outputs": [
    {
     "data": {
      "text/plain": [
       "<Axes: >"
      ]
     },
     "execution_count": 70,
     "metadata": {},
     "output_type": "execute_result"
    },
    {
     "data": {
      "image/png": "[encoded data removed]",
      "text/plain": [
       "<Figure size 640x480 with 1 Axes>"
      ]
     },
     "metadata": {},
     "output_type": "display_data"
    }
   ],
   "source": [
    "intermediate[intermediate.access=='no access'].plot(edgecolor='k')"
   ]
  },
  {
   "cell_type": "markdown",
   "id": "704765d2-6536-49ba-835f-0c0fd4a32dbd",
   "metadata": {},
   "source": [
    "## Interpolation"
   ]
  },
  {
   "cell_type": "code",
   "execution_count": 71,
   "id": "91ece458-86c1-4059-a981-551b57f9f8f3",
   "metadata": {},
   "outputs": [],
   "source": [
    "import tobler"
   ]
  },
  {
   "cell_type": "code",
   "execution_count": 72,
   "id": "e96c7777-7592-43f8-b08c-0b2f55b25152",
   "metadata": {},
   "outputs": [
    {
     "data": {
      "text/html": [
       "<div>\n",
       "<style scoped>\n",
       "    .dataframe tbody tr th:only-of-type {\n",
       "        vertical-align: middle;\n",
       "    }\n",
       "\n",
       "    .dataframe tbody tr th {\n",
       "        vertical-align: top;\n",
       "    }\n",
       "\n",
       "    .dataframe thead th {\n",
       "        text-align: right;\n",
       "    }\n",
       "</style>\n",
       "<table border=\"1\" class=\"dataframe\">\n",
       "  <thead>\n",
       "    <tr style=\"text-align: right;\">\n",
       "      <th></th>\n",
       "      <th>population</th>\n",
       "      <th>pci</th>\n",
       "      <th>geometry</th>\n",
       "    </tr>\n",
       "  </thead>\n",
       "  <tbody>\n",
       "    <tr>\n",
       "      <th>0</th>\n",
       "      <td>156.827435</td>\n",
       "      <td>45.500000</td>\n",
       "      <td>POLYGON ((2.33678 1.99659, 2.32958 1.94806, 2....</td>\n",
       "    </tr>\n",
       "    <tr>\n",
       "      <th>1</th>\n",
       "      <td>32.141898</td>\n",
       "      <td>78.699995</td>\n",
       "      <td>POLYGON ((9.76797 3.00000, 9.75810 2.97241, 9....</td>\n",
       "    </tr>\n",
       "    <tr>\n",
       "      <th>2</th>\n",
       "      <td>18.423850</td>\n",
       "      <td>102.000000</td>\n",
       "      <td>POLYGON ((8.82435 3.00000, 8.81769 3.01861, 8....</td>\n",
       "    </tr>\n",
       "    <tr>\n",
       "      <th>3</th>\n",
       "      <td>26.137905</td>\n",
       "      <td>102.000000</td>\n",
       "      <td>POLYGON ((6.17484 5.90644, 6.16764 5.85790, 6....</td>\n",
       "    </tr>\n",
       "    <tr>\n",
       "      <th>4</th>\n",
       "      <td>26.137905</td>\n",
       "      <td>102.000000</td>\n",
       "      <td>POLYGON ((10.14274 6.48276, 10.13554 6.43423, ...</td>\n",
       "    </tr>\n",
       "    <tr>\n",
       "      <th>5</th>\n",
       "      <td>26.137905</td>\n",
       "      <td>102.000000</td>\n",
       "      <td>POLYGON ((7.98666 6.48669, 7.97946 6.43815, 7....</td>\n",
       "    </tr>\n",
       "    <tr>\n",
       "      <th>6</th>\n",
       "      <td>3843.172550</td>\n",
       "      <td>45.500000</td>\n",
       "      <td>POLYGON ((0.00000 4.00000, 5.00000 4.00000, 5....</td>\n",
       "    </tr>\n",
       "    <tr>\n",
       "      <th>7</th>\n",
       "      <td>2467.858046</td>\n",
       "      <td>78.700000</td>\n",
       "      <td>POLYGON ((11.00000 3.00000, 11.00000 0.00000, ...</td>\n",
       "    </tr>\n",
       "    <tr>\n",
       "      <th>8</th>\n",
       "      <td>3000.000000</td>\n",
       "      <td>30.500000</td>\n",
       "      <td>POLYGON ((0.00000 5.00000, 5.00000 5.00000, 5....</td>\n",
       "    </tr>\n",
       "    <tr>\n",
       "      <th>9</th>\n",
       "      <td>903.162479</td>\n",
       "      <td>102.000000</td>\n",
       "      <td>POLYGON ((11.00000 3.00000, 9.76797 3.00000, 9...</td>\n",
       "    </tr>\n",
       "  </tbody>\n",
       "</table>\n",
       "</div>"
      ],
      "text/plain": [
       "    population         pci                                           geometry\n",
       "0   156.827435   45.500000  POLYGON ((2.33678 1.99659, 2.32958 1.94806, 2....\n",
       "1    32.141898   78.699995  POLYGON ((9.76797 3.00000, 9.75810 2.97241, 9....\n",
       "2    18.423850  102.000000  POLYGON ((8.82435 3.00000, 8.81769 3.01861, 8....\n",
       "3    26.137905  102.000000  POLYGON ((6.17484 5.90644, 6.16764 5.85790, 6....\n",
       "4    26.137905  102.000000  POLYGON ((10.14274 6.48276, 10.13554 6.43423, ...\n",
       "5    26.137905  102.000000  POLYGON ((7.98666 6.48669, 7.97946 6.43815, 7....\n",
       "6  3843.172550   45.500000  POLYGON ((0.00000 4.00000, 5.00000 4.00000, 5....\n",
       "7  2467.858046   78.700000  POLYGON ((11.00000 3.00000, 11.00000 0.00000, ...\n",
       "8  3000.000000   30.500000  POLYGON ((0.00000 5.00000, 5.00000 5.00000, 5....\n",
       "9   903.162479  102.000000  POLYGON ((11.00000 3.00000, 9.76797 3.00000, 9..."
      ]
     },
     "execution_count": 72,
     "metadata": {},
     "output_type": "execute_result"
    }
   ],
   "source": [
    "tobler.area_weighted.area_interpolate(pl_df, intermediate, \n",
    "                                      extensive_variables=['population'],\n",
    "                                      intensive_variables=['pci'])"
   ]
  },
  {
   "cell_type": "code",
   "execution_count": 73,
   "id": "cd337c87-1ac2-4471-8daa-c57f2aa83aa5",
   "metadata": {},
   "outputs": [],
   "source": [
    "final = tobler.area_weighted.area_interpolate(pl_df, intermediate, \n",
    "                                      extensive_variables=['population'],\n",
    "                                      intensive_variables=['pci'])"
   ]
  },
  {
   "cell_type": "code",
   "execution_count": 74,
   "id": "f20fa6e7-a1b4-4273-8f02-74d17f3067a1",
   "metadata": {},
   "outputs": [
    {
     "data": {
      "text/plain": [
       "10499.999973922968"
      ]
     },
     "execution_count": 74,
     "metadata": {},
     "output_type": "execute_result"
    }
   ],
   "source": [
    "final.population.sum()"
   ]
  },
  {
   "cell_type": "code",
   "execution_count": 75,
   "id": "12bd3404-6dc2-4f72-b741-a0dc541b6af6",
   "metadata": {},
   "outputs": [
    {
     "data": {
      "text/plain": [
       "21000"
      ]
     },
     "execution_count": 75,
     "metadata": {},
     "output_type": "execute_result"
    }
   ],
   "source": [
    "intermediate.population.sum()"
   ]
  },
  {
   "cell_type": "code",
   "execution_count": 76,
   "id": "e57641dc-3c44-4060-9f15-995ffa96fa43",
   "metadata": {},
   "outputs": [],
   "source": [
    "final['access'] = intermediate.access"
   ]
  },
  {
   "cell_type": "code",
   "execution_count": 77,
   "id": "b2f37f3c-5eac-461d-8683-99a2b21de066",
   "metadata": {},
   "outputs": [
    {
     "data": {
      "text/html": [
       "<div>\n",
       "<style scoped>\n",
       "    .dataframe tbody tr th:only-of-type {\n",
       "        vertical-align: middle;\n",
       "    }\n",
       "\n",
       "    .dataframe tbody tr th {\n",
       "        vertical-align: top;\n",
       "    }\n",
       "\n",
       "    .dataframe thead th {\n",
       "        text-align: right;\n",
       "    }\n",
       "</style>\n",
       "<table border=\"1\" class=\"dataframe\">\n",
       "  <thead>\n",
       "    <tr style=\"text-align: right;\">\n",
       "      <th></th>\n",
       "      <th>population</th>\n",
       "      <th>pci</th>\n",
       "      <th>geometry</th>\n",
       "      <th>access</th>\n",
       "    </tr>\n",
       "  </thead>\n",
       "  <tbody>\n",
       "    <tr>\n",
       "      <th>0</th>\n",
       "      <td>156.827435</td>\n",
       "      <td>45.500000</td>\n",
       "      <td>POLYGON ((2.33678 1.99659, 2.32958 1.94806, 2....</td>\n",
       "      <td>access</td>\n",
       "    </tr>\n",
       "    <tr>\n",
       "      <th>1</th>\n",
       "      <td>32.141898</td>\n",
       "      <td>78.699995</td>\n",
       "      <td>POLYGON ((9.76797 3.00000, 9.75810 2.97241, 9....</td>\n",
       "      <td>access</td>\n",
       "    </tr>\n",
       "    <tr>\n",
       "      <th>2</th>\n",
       "      <td>18.423850</td>\n",
       "      <td>102.000000</td>\n",
       "      <td>POLYGON ((8.82435 3.00000, 8.81769 3.01861, 8....</td>\n",
       "      <td>access</td>\n",
       "    </tr>\n",
       "    <tr>\n",
       "      <th>3</th>\n",
       "      <td>26.137905</td>\n",
       "      <td>102.000000</td>\n",
       "      <td>POLYGON ((6.17484 5.90644, 6.16764 5.85790, 6....</td>\n",
       "      <td>access</td>\n",
       "    </tr>\n",
       "    <tr>\n",
       "      <th>4</th>\n",
       "      <td>26.137905</td>\n",
       "      <td>102.000000</td>\n",
       "      <td>POLYGON ((10.14274 6.48276, 10.13554 6.43423, ...</td>\n",
       "      <td>access</td>\n",
       "    </tr>\n",
       "    <tr>\n",
       "      <th>5</th>\n",
       "      <td>26.137905</td>\n",
       "      <td>102.000000</td>\n",
       "      <td>POLYGON ((7.98666 6.48669, 7.97946 6.43815, 7....</td>\n",
       "      <td>access</td>\n",
       "    </tr>\n",
       "    <tr>\n",
       "      <th>6</th>\n",
       "      <td>3843.172550</td>\n",
       "      <td>45.500000</td>\n",
       "      <td>POLYGON ((0.00000 4.00000, 5.00000 4.00000, 5....</td>\n",
       "      <td>no access</td>\n",
       "    </tr>\n",
       "    <tr>\n",
       "      <th>7</th>\n",
       "      <td>2467.858046</td>\n",
       "      <td>78.700000</td>\n",
       "      <td>POLYGON ((11.00000 3.00000, 11.00000 0.00000, ...</td>\n",
       "      <td>no access</td>\n",
       "    </tr>\n",
       "    <tr>\n",
       "      <th>8</th>\n",
       "      <td>3000.000000</td>\n",
       "      <td>30.500000</td>\n",
       "      <td>POLYGON ((0.00000 5.00000, 5.00000 5.00000, 5....</td>\n",
       "      <td>no access</td>\n",
       "    </tr>\n",
       "    <tr>\n",
       "      <th>9</th>\n",
       "      <td>903.162479</td>\n",
       "      <td>102.000000</td>\n",
       "      <td>POLYGON ((11.00000 3.00000, 9.76797 3.00000, 9...</td>\n",
       "      <td>no access</td>\n",
       "    </tr>\n",
       "  </tbody>\n",
       "</table>\n",
       "</div>"
      ],
      "text/plain": [
       "    population         pci                                           geometry  \\\n",
       "0   156.827435   45.500000  POLYGON ((2.33678 1.99659, 2.32958 1.94806, 2....   \n",
       "1    32.141898   78.699995  POLYGON ((9.76797 3.00000, 9.75810 2.97241, 9....   \n",
       "2    18.423850  102.000000  POLYGON ((8.82435 3.00000, 8.81769 3.01861, 8....   \n",
       "3    26.137905  102.000000  POLYGON ((6.17484 5.90644, 6.16764 5.85790, 6....   \n",
       "4    26.137905  102.000000  POLYGON ((10.14274 6.48276, 10.13554 6.43423, ...   \n",
       "5    26.137905  102.000000  POLYGON ((7.98666 6.48669, 7.97946 6.43815, 7....   \n",
       "6  3843.172550   45.500000  POLYGON ((0.00000 4.00000, 5.00000 4.00000, 5....   \n",
       "7  2467.858046   78.700000  POLYGON ((11.00000 3.00000, 11.00000 0.00000, ...   \n",
       "8  3000.000000   30.500000  POLYGON ((0.00000 5.00000, 5.00000 5.00000, 5....   \n",
       "9   903.162479  102.000000  POLYGON ((11.00000 3.00000, 9.76797 3.00000, 9...   \n",
       "\n",
       "      access  \n",
       "0     access  \n",
       "1     access  \n",
       "2     access  \n",
       "3     access  \n",
       "4     access  \n",
       "5     access  \n",
       "6  no access  \n",
       "7  no access  \n",
       "8  no access  \n",
       "9  no access  "
      ]
     },
     "execution_count": 77,
     "metadata": {},
     "output_type": "execute_result"
    }
   ],
   "source": [
    "final"
   ]
  },
  {
   "cell_type": "markdown",
   "id": "a851b022-3608-4af2-b967-d17c2511375c",
   "metadata": {},
   "source": [
    "How many people live within the access buffers?"
   ]
  },
  {
   "cell_type": "code",
   "execution_count": 78,
   "id": "477ff861-b663-46a3-8fa6-88d5854b2b2c",
   "metadata": {},
   "outputs": [
    {
     "data": {
      "text/html": [
       "<div>\n",
       "<style scoped>\n",
       "    .dataframe tbody tr th:only-of-type {\n",
       "        vertical-align: middle;\n",
       "    }\n",
       "\n",
       "    .dataframe tbody tr th {\n",
       "        vertical-align: top;\n",
       "    }\n",
       "\n",
       "    .dataframe thead th {\n",
       "        text-align: right;\n",
       "    }\n",
       "</style>\n",
       "<table border=\"1\" class=\"dataframe\">\n",
       "  <thead>\n",
       "    <tr style=\"text-align: right;\">\n",
       "      <th></th>\n",
       "      <th>population</th>\n",
       "    </tr>\n",
       "    <tr>\n",
       "      <th>access</th>\n",
       "      <th></th>\n",
       "    </tr>\n",
       "  </thead>\n",
       "  <tbody>\n",
       "    <tr>\n",
       "      <th>access</th>\n",
       "      <td>285.806898</td>\n",
       "    </tr>\n",
       "    <tr>\n",
       "      <th>no access</th>\n",
       "      <td>10214.193076</td>\n",
       "    </tr>\n",
       "  </tbody>\n",
       "</table>\n",
       "</div>"
      ],
      "text/plain": [
       "             population\n",
       "access                 \n",
       "access       285.806898\n",
       "no access  10214.193076"
      ]
     },
     "execution_count": 78,
     "metadata": {},
     "output_type": "execute_result"
    }
   ],
   "source": [
    "final[['population', 'access']].groupby(by='access').sum()"
   ]
  },
  {
   "cell_type": "markdown",
   "id": "31640975-495d-4a5c-8ce7-d0bb908cfc31",
   "metadata": {},
   "source": [
    "What are the income levels in the two areas?"
   ]
  },
  {
   "cell_type": "code",
   "execution_count": 79,
   "id": "7b8257c1-c0b4-4ca9-b930-70e9b4364d45",
   "metadata": {},
   "outputs": [
    {
     "data": {
      "text/html": [
       "<div>\n",
       "<style scoped>\n",
       "    .dataframe tbody tr th:only-of-type {\n",
       "        vertical-align: middle;\n",
       "    }\n",
       "\n",
       "    .dataframe tbody tr th {\n",
       "        vertical-align: top;\n",
       "    }\n",
       "\n",
       "    .dataframe thead th {\n",
       "        text-align: right;\n",
       "    }\n",
       "</style>\n",
       "<table border=\"1\" class=\"dataframe\">\n",
       "  <thead>\n",
       "    <tr style=\"text-align: right;\">\n",
       "      <th></th>\n",
       "      <th>pci</th>\n",
       "    </tr>\n",
       "    <tr>\n",
       "      <th>access</th>\n",
       "      <th></th>\n",
       "    </tr>\n",
       "  </thead>\n",
       "  <tbody>\n",
       "    <tr>\n",
       "      <th>access</th>\n",
       "      <td>88.699999</td>\n",
       "    </tr>\n",
       "    <tr>\n",
       "      <th>no access</th>\n",
       "      <td>64.175000</td>\n",
       "    </tr>\n",
       "  </tbody>\n",
       "</table>\n",
       "</div>"
      ],
      "text/plain": [
       "                 pci\n",
       "access              \n",
       "access     88.699999\n",
       "no access  64.175000"
      ]
     },
     "execution_count": 79,
     "metadata": {},
     "output_type": "execute_result"
    }
   ],
   "source": [
    "final[['pci', 'access']].groupby(by='access').mean()"
   ]
  },
  {
   "cell_type": "code",
   "execution_count": null,
   "id": "eef83980-d872-478e-841b-fcb8dbe78b67",
   "metadata": {},
   "outputs": [],
   "source": []
  }
 ],
 "metadata": {
  "kernelspec": {
   "display_name": "Python 3 (ipykernel)",
   "language": "python",
   "name": "python3"
  },
  "language_info": {
   "codemirror_mode": {
    "name": "ipython",
    "version": 3
   },
   "file_extension": ".py",
   "mimetype": "text/x-python",
   "name": "python",
   "nbconvert_exporter": "python",
   "pygments_lexer": "ipython3",
   "version": "3.10.10"
  }
 },
 "nbformat": 4,
 "nbformat_minor": 5
}
